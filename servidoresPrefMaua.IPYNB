{
 "cells": [
  {
   "cell_type": "code",
   "execution_count": 2,
   "metadata": {},
   "outputs": [],
   "source": [
    "import requests\n",
    "import pandas as pd\n",
    "from unidecode import unidecode"
   ]
  },
  {
   "cell_type": "code",
   "execution_count": 3,
   "metadata": {},
   "outputs": [],
   "source": [
    "requisicao = requests.get('https://sistemas.maua.sp.gov.br/Portaldatransparencia/API/Servidores/10/2022')\n",
    "\n",
    "servidores = requisicao.json()\n",
    "df = pd.DataFrame(servidores)\n"
   ]
  },
  {
   "cell_type": "code",
   "execution_count": 4,
   "metadata": {},
   "outputs": [
    {
     "data": {
      "text/html": [
       "<div>\n",
       "<style scoped>\n",
       "    .dataframe tbody tr th:only-of-type {\n",
       "        vertical-align: middle;\n",
       "    }\n",
       "\n",
       "    .dataframe tbody tr th {\n",
       "        vertical-align: top;\n",
       "    }\n",
       "\n",
       "    .dataframe thead th {\n",
       "        text-align: right;\n",
       "    }\n",
       "</style>\n",
       "<table border=\"1\" class=\"dataframe\">\n",
       "  <thead>\n",
       "    <tr style=\"text-align: right;\">\n",
       "      <th></th>\n",
       "      <th>cadastro</th>\n",
       "      <th>nome</th>\n",
       "      <th>secretaria</th>\n",
       "      <th>proventos</th>\n",
       "      <th>liquido</th>\n",
       "      <th>situacao</th>\n",
       "      <th>vinculo</th>\n",
       "      <th>cargo</th>\n",
       "      <th>localabonocovid</th>\n",
       "      <th>abonocovid</th>\n",
       "      <th>horaextracovid</th>\n",
       "    </tr>\n",
       "  </thead>\n",
       "  <tbody>\n",
       "    <tr>\n",
       "      <th>count</th>\n",
       "      <td>7063</td>\n",
       "      <td>7063</td>\n",
       "      <td>7063</td>\n",
       "      <td>7063</td>\n",
       "      <td>7063</td>\n",
       "      <td>7063</td>\n",
       "      <td>7063</td>\n",
       "      <td>7063</td>\n",
       "      <td>7063</td>\n",
       "      <td>7063</td>\n",
       "      <td>7063</td>\n",
       "    </tr>\n",
       "    <tr>\n",
       "      <th>unique</th>\n",
       "      <td>7063</td>\n",
       "      <td>6981</td>\n",
       "      <td>27</td>\n",
       "      <td>4323</td>\n",
       "      <td>6295</td>\n",
       "      <td>4</td>\n",
       "      <td>18</td>\n",
       "      <td>269</td>\n",
       "      <td>2</td>\n",
       "      <td>17</td>\n",
       "      <td>72</td>\n",
       "    </tr>\n",
       "    <tr>\n",
       "      <th>top</th>\n",
       "      <td>41146</td>\n",
       "      <td>ANA PAULA DE SOUZA</td>\n",
       "      <td>Secretaria de Educação</td>\n",
       "      <td>3911.53</td>\n",
       "      <td>2069.28</td>\n",
       "      <td>Ativo</td>\n",
       "      <td>ESTAT EFETIVO</td>\n",
       "      <td>PEB I</td>\n",
       "      <td>N</td>\n",
       "      <td>0</td>\n",
       "      <td>0</td>\n",
       "    </tr>\n",
       "    <tr>\n",
       "      <th>freq</th>\n",
       "      <td>1</td>\n",
       "      <td>3</td>\n",
       "      <td>3035</td>\n",
       "      <td>169</td>\n",
       "      <td>79</td>\n",
       "      <td>6923</td>\n",
       "      <td>4958</td>\n",
       "      <td>1273</td>\n",
       "      <td>5508</td>\n",
       "      <td>5541</td>\n",
       "      <td>6977</td>\n",
       "    </tr>\n",
       "  </tbody>\n",
       "</table>\n",
       "</div>"
      ],
      "text/plain": [
       "       cadastro                nome              secretaria proventos  \\\n",
       "count      7063                7063                    7063      7063   \n",
       "unique     7063                6981                      27      4323   \n",
       "top       41146  ANA PAULA DE SOUZA  Secretaria de Educação   3911.53   \n",
       "freq          1                   3                    3035       169   \n",
       "\n",
       "        liquido situacao        vinculo  cargo localabonocovid abonocovid  \\\n",
       "count      7063     7063           7063   7063            7063       7063   \n",
       "unique     6295        4             18    269               2         17   \n",
       "top     2069.28    Ativo  ESTAT EFETIVO  PEB I               N          0   \n",
       "freq         79     6923           4958   1273            5508       5541   \n",
       "\n",
       "       horaextracovid  \n",
       "count            7063  \n",
       "unique             72  \n",
       "top                 0  \n",
       "freq             6977  "
      ]
     },
     "execution_count": 4,
     "metadata": {},
     "output_type": "execute_result"
    }
   ],
   "source": [
    "df.describe()"
   ]
  },
  {
   "cell_type": "code",
   "execution_count": 5,
   "metadata": {},
   "outputs": [
    {
     "data": {
      "text/plain": [
       "cadastro           object\n",
       "nome               object\n",
       "secretaria         object\n",
       "proventos          object\n",
       "liquido            object\n",
       "situacao           object\n",
       "vinculo            object\n",
       "cargo              object\n",
       "localabonocovid    object\n",
       "abonocovid         object\n",
       "horaextracovid     object\n",
       "dtype: object"
      ]
     },
     "execution_count": 5,
     "metadata": {},
     "output_type": "execute_result"
    }
   ],
   "source": [
    "df.dtypes"
   ]
  },
  {
   "cell_type": "code",
   "execution_count": 6,
   "metadata": {},
   "outputs": [],
   "source": [
    "df['liquido'] = df['liquido'].astype(float)\n",
    "df['proventos'] = df['proventos'].astype(float)\n",
    "df['cadastro'] = df['cadastro'].astype(int)\n",
    "df['abonocovid'] = df['abonocovid'].astype(int)\n",
    "df['horaextracovid'] = df['horaextracovid'].astype(float)"
   ]
  },
  {
   "cell_type": "code",
   "execution_count": 7,
   "metadata": {},
   "outputs": [
    {
     "data": {
      "text/plain": [
       "cadastro             int32\n",
       "nome                object\n",
       "secretaria          object\n",
       "proventos          float64\n",
       "liquido            float64\n",
       "situacao            object\n",
       "vinculo             object\n",
       "cargo               object\n",
       "localabonocovid     object\n",
       "abonocovid           int32\n",
       "horaextracovid     float64\n",
       "dtype: object"
      ]
     },
     "execution_count": 7,
     "metadata": {},
     "output_type": "execute_result"
    }
   ],
   "source": [
    "df.dtypes"
   ]
  },
  {
   "cell_type": "code",
   "execution_count": 8,
   "metadata": {},
   "outputs": [],
   "source": [
    "prefeito = df['cargo']=='PREFEITO'"
   ]
  },
  {
   "cell_type": "code",
   "execution_count": 9,
   "metadata": {},
   "outputs": [
    {
     "data": {
      "text/html": [
       "<div>\n",
       "<style scoped>\n",
       "    .dataframe tbody tr th:only-of-type {\n",
       "        vertical-align: middle;\n",
       "    }\n",
       "\n",
       "    .dataframe tbody tr th {\n",
       "        vertical-align: top;\n",
       "    }\n",
       "\n",
       "    .dataframe thead th {\n",
       "        text-align: right;\n",
       "    }\n",
       "</style>\n",
       "<table border=\"1\" class=\"dataframe\">\n",
       "  <thead>\n",
       "    <tr style=\"text-align: right;\">\n",
       "      <th></th>\n",
       "      <th>cadastro</th>\n",
       "      <th>nome</th>\n",
       "      <th>secretaria</th>\n",
       "      <th>proventos</th>\n",
       "      <th>liquido</th>\n",
       "      <th>situacao</th>\n",
       "      <th>vinculo</th>\n",
       "      <th>cargo</th>\n",
       "      <th>localabonocovid</th>\n",
       "      <th>abonocovid</th>\n",
       "      <th>horaextracovid</th>\n",
       "    </tr>\n",
       "  </thead>\n",
       "  <tbody>\n",
       "    <tr>\n",
       "      <th>4107</th>\n",
       "      <td>38797</td>\n",
       "      <td>MARCELO OLIVEIRA</td>\n",
       "      <td>Gabinete do Prefeito</td>\n",
       "      <td>18576.09</td>\n",
       "      <td>13736.45</td>\n",
       "      <td>Ativo</td>\n",
       "      <td>CARGO ELETIVO (PREF)</td>\n",
       "      <td>PREFEITO</td>\n",
       "      <td>N</td>\n",
       "      <td>0</td>\n",
       "      <td>0.0</td>\n",
       "    </tr>\n",
       "  </tbody>\n",
       "</table>\n",
       "</div>"
      ],
      "text/plain": [
       "      cadastro              nome            secretaria  proventos   liquido  \\\n",
       "4107     38797  MARCELO OLIVEIRA  Gabinete do Prefeito   18576.09  13736.45   \n",
       "\n",
       "     situacao               vinculo     cargo localabonocovid  abonocovid  \\\n",
       "4107    Ativo  CARGO ELETIVO (PREF)  PREFEITO               N           0   \n",
       "\n",
       "      horaextracovid  \n",
       "4107             0.0  "
      ]
     },
     "execution_count": 9,
     "metadata": {},
     "output_type": "execute_result"
    }
   ],
   "source": [
    "df[prefeito]"
   ]
  },
  {
   "cell_type": "code",
   "execution_count": 10,
   "metadata": {},
   "outputs": [
    {
     "data": {
      "text/plain": [
       "4107    13736.45\n",
       "Name: liquido, dtype: float64"
      ]
     },
     "execution_count": 10,
     "metadata": {},
     "output_type": "execute_result"
    }
   ],
   "source": [
    "proventoTeto = df[prefeito]['proventos']\n",
    "liquidoTeto = df[prefeito]['liquido']\n",
    "liquidoTeto"
   ]
  },
  {
   "cell_type": "code",
   "execution_count": 11,
   "metadata": {},
   "outputs": [
    {
     "data": {
      "text/plain": [
       "4107    18576.09\n",
       "Name: proventos, dtype: float64"
      ]
     },
     "execution_count": 11,
     "metadata": {},
     "output_type": "execute_result"
    }
   ],
   "source": [
    "proventoTeto"
   ]
  },
  {
   "cell_type": "code",
   "execution_count": 12,
   "metadata": {},
   "outputs": [
    {
     "data": {
      "text/plain": [
       "4107    13736.45\n",
       "Name: liquido, dtype: float64"
      ]
     },
     "execution_count": 12,
     "metadata": {},
     "output_type": "execute_result"
    }
   ],
   "source": [
    "liquidoTeto"
   ]
  },
  {
   "cell_type": "code",
   "execution_count": 13,
   "metadata": {},
   "outputs": [],
   "source": [
    "filtroProventos = df['proventos'] > float(proventoTeto)\n",
    "filtroLiquidos = df['liquido'] > float(liquidoTeto)"
   ]
  },
  {
   "cell_type": "code",
   "execution_count": 14,
   "metadata": {},
   "outputs": [
    {
     "data": {
      "text/html": [
       "<div>\n",
       "<style scoped>\n",
       "    .dataframe tbody tr th:only-of-type {\n",
       "        vertical-align: middle;\n",
       "    }\n",
       "\n",
       "    .dataframe tbody tr th {\n",
       "        vertical-align: top;\n",
       "    }\n",
       "\n",
       "    .dataframe thead th {\n",
       "        text-align: right;\n",
       "    }\n",
       "</style>\n",
       "<table border=\"1\" class=\"dataframe\">\n",
       "  <thead>\n",
       "    <tr style=\"text-align: right;\">\n",
       "      <th></th>\n",
       "      <th>cadastro</th>\n",
       "      <th>nome</th>\n",
       "      <th>secretaria</th>\n",
       "      <th>proventos</th>\n",
       "      <th>liquido</th>\n",
       "      <th>situacao</th>\n",
       "      <th>vinculo</th>\n",
       "      <th>cargo</th>\n",
       "      <th>localabonocovid</th>\n",
       "      <th>abonocovid</th>\n",
       "      <th>horaextracovid</th>\n",
       "    </tr>\n",
       "  </thead>\n",
       "  <tbody>\n",
       "    <tr>\n",
       "      <th>281</th>\n",
       "      <td>22727</td>\n",
       "      <td>ALEXANDRE SILVA</td>\n",
       "      <td>Secretaria de Finanças</td>\n",
       "      <td>21034.27</td>\n",
       "      <td>16201.98</td>\n",
       "      <td>Ativo</td>\n",
       "      <td>ESTAT EFETIVO</td>\n",
       "      <td>AUD.FISC.TRIB. MUNICIPAIS II</td>\n",
       "      <td>N</td>\n",
       "      <td>0</td>\n",
       "      <td>0.0</td>\n",
       "    </tr>\n",
       "    <tr>\n",
       "      <th>553</th>\n",
       "      <td>21246</td>\n",
       "      <td>ANDRE DE ARIMATEIA DE SOUZA LINO</td>\n",
       "      <td>Secretaria de Saúde</td>\n",
       "      <td>20185.34</td>\n",
       "      <td>13840.72</td>\n",
       "      <td>Ativo</td>\n",
       "      <td>ESTAT EFETIVO</td>\n",
       "      <td>MEDICO-CIRURGIAO GERAL 40H</td>\n",
       "      <td>S</td>\n",
       "      <td>300</td>\n",
       "      <td>0.0</td>\n",
       "    </tr>\n",
       "    <tr>\n",
       "      <th>572</th>\n",
       "      <td>18409</td>\n",
       "      <td>ANDREA CHAVES FERREIRA SANTO AZZOLINI</td>\n",
       "      <td>Secretaria de Saúde</td>\n",
       "      <td>19519.73</td>\n",
       "      <td>13788.59</td>\n",
       "      <td>Ativo</td>\n",
       "      <td>ESTAT EFETIVO</td>\n",
       "      <td>MEDICO-GINECOLOGISTA 40H</td>\n",
       "      <td>S</td>\n",
       "      <td>300</td>\n",
       "      <td>0.0</td>\n",
       "    </tr>\n",
       "    <tr>\n",
       "      <th>740</th>\n",
       "      <td>2943</td>\n",
       "      <td>ANTONIO MARIA CLARET SANT ANA</td>\n",
       "      <td>Secretaria do Verde e do Meio Ambiente</td>\n",
       "      <td>18663.70</td>\n",
       "      <td>13169.45</td>\n",
       "      <td>Ativo</td>\n",
       "      <td>CLT Ñ ESTAVEL</td>\n",
       "      <td>ENGENHEIRO AGRONOMO</td>\n",
       "      <td>N</td>\n",
       "      <td>0</td>\n",
       "      <td>0.0</td>\n",
       "    </tr>\n",
       "    <tr>\n",
       "      <th>1007</th>\n",
       "      <td>17875</td>\n",
       "      <td>CARLOS ALBERTO GALVAO</td>\n",
       "      <td>Secretaria de Saúde</td>\n",
       "      <td>23395.59</td>\n",
       "      <td>17612.31</td>\n",
       "      <td>Ativo</td>\n",
       "      <td>ESTAT EFETIVO</td>\n",
       "      <td>MEDICO-GENERALISTA 40H</td>\n",
       "      <td>S</td>\n",
       "      <td>300</td>\n",
       "      <td>0.0</td>\n",
       "    </tr>\n",
       "  </tbody>\n",
       "</table>\n",
       "</div>"
      ],
      "text/plain": [
       "      cadastro                                   nome  \\\n",
       "281      22727                        ALEXANDRE SILVA   \n",
       "553      21246       ANDRE DE ARIMATEIA DE SOUZA LINO   \n",
       "572      18409  ANDREA CHAVES FERREIRA SANTO AZZOLINI   \n",
       "740       2943          ANTONIO MARIA CLARET SANT ANA   \n",
       "1007     17875                  CARLOS ALBERTO GALVAO   \n",
       "\n",
       "                                  secretaria  proventos   liquido situacao  \\\n",
       "281                   Secretaria de Finanças   21034.27  16201.98    Ativo   \n",
       "553                      Secretaria de Saúde   20185.34  13840.72    Ativo   \n",
       "572                      Secretaria de Saúde   19519.73  13788.59    Ativo   \n",
       "740   Secretaria do Verde e do Meio Ambiente   18663.70  13169.45    Ativo   \n",
       "1007                     Secretaria de Saúde   23395.59  17612.31    Ativo   \n",
       "\n",
       "            vinculo                         cargo localabonocovid  abonocovid  \\\n",
       "281   ESTAT EFETIVO  AUD.FISC.TRIB. MUNICIPAIS II               N           0   \n",
       "553   ESTAT EFETIVO    MEDICO-CIRURGIAO GERAL 40H               S         300   \n",
       "572   ESTAT EFETIVO      MEDICO-GINECOLOGISTA 40H               S         300   \n",
       "740   CLT Ñ ESTAVEL           ENGENHEIRO AGRONOMO               N           0   \n",
       "1007  ESTAT EFETIVO        MEDICO-GENERALISTA 40H               S         300   \n",
       "\n",
       "      horaextracovid  \n",
       "281              0.0  \n",
       "553              0.0  \n",
       "572              0.0  \n",
       "740              0.0  \n",
       "1007             0.0  "
      ]
     },
     "execution_count": 14,
     "metadata": {},
     "output_type": "execute_result"
    }
   ],
   "source": [
    "df[filtroProventos].head()"
   ]
  },
  {
   "cell_type": "code",
   "execution_count": 15,
   "metadata": {},
   "outputs": [
    {
     "data": {
      "text/html": [
       "<div>\n",
       "<style scoped>\n",
       "    .dataframe tbody tr th:only-of-type {\n",
       "        vertical-align: middle;\n",
       "    }\n",
       "\n",
       "    .dataframe tbody tr th {\n",
       "        vertical-align: top;\n",
       "    }\n",
       "\n",
       "    .dataframe thead th {\n",
       "        text-align: right;\n",
       "    }\n",
       "</style>\n",
       "<table border=\"1\" class=\"dataframe\">\n",
       "  <thead>\n",
       "    <tr style=\"text-align: right;\">\n",
       "      <th></th>\n",
       "      <th>cadastro</th>\n",
       "      <th>nome</th>\n",
       "      <th>secretaria</th>\n",
       "      <th>proventos</th>\n",
       "      <th>liquido</th>\n",
       "      <th>situacao</th>\n",
       "      <th>vinculo</th>\n",
       "      <th>cargo</th>\n",
       "      <th>localabonocovid</th>\n",
       "      <th>abonocovid</th>\n",
       "      <th>horaextracovid</th>\n",
       "    </tr>\n",
       "  </thead>\n",
       "  <tbody>\n",
       "    <tr>\n",
       "      <th>281</th>\n",
       "      <td>22727</td>\n",
       "      <td>ALEXANDRE SILVA</td>\n",
       "      <td>Secretaria de Finanças</td>\n",
       "      <td>21034.27</td>\n",
       "      <td>16201.98</td>\n",
       "      <td>Ativo</td>\n",
       "      <td>ESTAT EFETIVO</td>\n",
       "      <td>AUD.FISC.TRIB. MUNICIPAIS II</td>\n",
       "      <td>N</td>\n",
       "      <td>0</td>\n",
       "      <td>0.0</td>\n",
       "    </tr>\n",
       "    <tr>\n",
       "      <th>553</th>\n",
       "      <td>21246</td>\n",
       "      <td>ANDRE DE ARIMATEIA DE SOUZA LINO</td>\n",
       "      <td>Secretaria de Saúde</td>\n",
       "      <td>20185.34</td>\n",
       "      <td>13840.72</td>\n",
       "      <td>Ativo</td>\n",
       "      <td>ESTAT EFETIVO</td>\n",
       "      <td>MEDICO-CIRURGIAO GERAL 40H</td>\n",
       "      <td>S</td>\n",
       "      <td>300</td>\n",
       "      <td>0.0</td>\n",
       "    </tr>\n",
       "    <tr>\n",
       "      <th>572</th>\n",
       "      <td>18409</td>\n",
       "      <td>ANDREA CHAVES FERREIRA SANTO AZZOLINI</td>\n",
       "      <td>Secretaria de Saúde</td>\n",
       "      <td>19519.73</td>\n",
       "      <td>13788.59</td>\n",
       "      <td>Ativo</td>\n",
       "      <td>ESTAT EFETIVO</td>\n",
       "      <td>MEDICO-GINECOLOGISTA 40H</td>\n",
       "      <td>S</td>\n",
       "      <td>300</td>\n",
       "      <td>0.0</td>\n",
       "    </tr>\n",
       "    <tr>\n",
       "      <th>1007</th>\n",
       "      <td>17875</td>\n",
       "      <td>CARLOS ALBERTO GALVAO</td>\n",
       "      <td>Secretaria de Saúde</td>\n",
       "      <td>23395.59</td>\n",
       "      <td>17612.31</td>\n",
       "      <td>Ativo</td>\n",
       "      <td>ESTAT EFETIVO</td>\n",
       "      <td>MEDICO-GENERALISTA 40H</td>\n",
       "      <td>S</td>\n",
       "      <td>300</td>\n",
       "      <td>0.0</td>\n",
       "    </tr>\n",
       "    <tr>\n",
       "      <th>1175</th>\n",
       "      <td>38813</td>\n",
       "      <td>CICERO DOS SANTOS OLIVEIRA</td>\n",
       "      <td>Secretaria de Segurança Pública e Defesa Civil</td>\n",
       "      <td>27668.33</td>\n",
       "      <td>18233.59</td>\n",
       "      <td>Ativo</td>\n",
       "      <td>ESTAT COMISS</td>\n",
       "      <td>COMANDANTE DA GCM (EFETIVO)</td>\n",
       "      <td>N</td>\n",
       "      <td>0</td>\n",
       "      <td>0.0</td>\n",
       "    </tr>\n",
       "  </tbody>\n",
       "</table>\n",
       "</div>"
      ],
      "text/plain": [
       "      cadastro                                   nome  \\\n",
       "281      22727                        ALEXANDRE SILVA   \n",
       "553      21246       ANDRE DE ARIMATEIA DE SOUZA LINO   \n",
       "572      18409  ANDREA CHAVES FERREIRA SANTO AZZOLINI   \n",
       "1007     17875                  CARLOS ALBERTO GALVAO   \n",
       "1175     38813             CICERO DOS SANTOS OLIVEIRA   \n",
       "\n",
       "                                          secretaria  proventos   liquido  \\\n",
       "281                           Secretaria de Finanças   21034.27  16201.98   \n",
       "553                              Secretaria de Saúde   20185.34  13840.72   \n",
       "572                              Secretaria de Saúde   19519.73  13788.59   \n",
       "1007                             Secretaria de Saúde   23395.59  17612.31   \n",
       "1175  Secretaria de Segurança Pública e Defesa Civil   27668.33  18233.59   \n",
       "\n",
       "     situacao        vinculo                         cargo localabonocovid  \\\n",
       "281     Ativo  ESTAT EFETIVO  AUD.FISC.TRIB. MUNICIPAIS II               N   \n",
       "553     Ativo  ESTAT EFETIVO    MEDICO-CIRURGIAO GERAL 40H               S   \n",
       "572     Ativo  ESTAT EFETIVO      MEDICO-GINECOLOGISTA 40H               S   \n",
       "1007    Ativo  ESTAT EFETIVO        MEDICO-GENERALISTA 40H               S   \n",
       "1175    Ativo   ESTAT COMISS   COMANDANTE DA GCM (EFETIVO)               N   \n",
       "\n",
       "      abonocovid  horaextracovid  \n",
       "281            0             0.0  \n",
       "553          300             0.0  \n",
       "572          300             0.0  \n",
       "1007         300             0.0  \n",
       "1175           0             0.0  "
      ]
     },
     "execution_count": 15,
     "metadata": {},
     "output_type": "execute_result"
    }
   ],
   "source": [
    "df[filtroLiquidos].head()"
   ]
  },
  {
   "cell_type": "code",
   "execution_count": 16,
   "metadata": {},
   "outputs": [],
   "source": [
    "servidoresIrregularA105 = df[filtroLiquidos]"
   ]
  },
  {
   "cell_type": "code",
   "execution_count": 17,
   "metadata": {},
   "outputs": [
    {
     "data": {
      "text/plain": [
       "cadastro           30\n",
       "nome               30\n",
       "secretaria         30\n",
       "proventos          30\n",
       "liquido            30\n",
       "situacao           30\n",
       "vinculo            30\n",
       "cargo              30\n",
       "localabonocovid    30\n",
       "abonocovid         30\n",
       "horaextracovid     30\n",
       "dtype: int64"
      ]
     },
     "execution_count": 17,
     "metadata": {},
     "output_type": "execute_result"
    }
   ],
   "source": [
    "servidoresIrregularA105.count()"
   ]
  },
  {
   "cell_type": "code",
   "execution_count": 18,
   "metadata": {},
   "outputs": [
    {
     "data": {
      "text/html": [
       "<div>\n",
       "<style scoped>\n",
       "    .dataframe tbody tr th:only-of-type {\n",
       "        vertical-align: middle;\n",
       "    }\n",
       "\n",
       "    .dataframe tbody tr th {\n",
       "        vertical-align: top;\n",
       "    }\n",
       "\n",
       "    .dataframe thead th {\n",
       "        text-align: right;\n",
       "    }\n",
       "</style>\n",
       "<table border=\"1\" class=\"dataframe\">\n",
       "  <thead>\n",
       "    <tr style=\"text-align: right;\">\n",
       "      <th></th>\n",
       "      <th>cadastro</th>\n",
       "      <th>proventos</th>\n",
       "      <th>liquido</th>\n",
       "      <th>abonocovid</th>\n",
       "      <th>horaextracovid</th>\n",
       "    </tr>\n",
       "  </thead>\n",
       "  <tbody>\n",
       "    <tr>\n",
       "      <th>count</th>\n",
       "      <td>30.000000</td>\n",
       "      <td>30.000000</td>\n",
       "      <td>30.000000</td>\n",
       "      <td>30.00000</td>\n",
       "      <td>30.0</td>\n",
       "    </tr>\n",
       "    <tr>\n",
       "      <th>mean</th>\n",
       "      <td>23134.033333</td>\n",
       "      <td>21590.124333</td>\n",
       "      <td>15815.949000</td>\n",
       "      <td>100.00000</td>\n",
       "      <td>0.0</td>\n",
       "    </tr>\n",
       "    <tr>\n",
       "      <th>std</th>\n",
       "      <td>9823.534154</td>\n",
       "      <td>3975.318952</td>\n",
       "      <td>3012.216014</td>\n",
       "      <td>143.83899</td>\n",
       "      <td>0.0</td>\n",
       "    </tr>\n",
       "    <tr>\n",
       "      <th>min</th>\n",
       "      <td>2118.000000</td>\n",
       "      <td>16697.370000</td>\n",
       "      <td>13746.660000</td>\n",
       "      <td>0.00000</td>\n",
       "      <td>0.0</td>\n",
       "    </tr>\n",
       "    <tr>\n",
       "      <th>25%</th>\n",
       "      <td>17946.000000</td>\n",
       "      <td>19231.437500</td>\n",
       "      <td>13895.182500</td>\n",
       "      <td>0.00000</td>\n",
       "      <td>0.0</td>\n",
       "    </tr>\n",
       "    <tr>\n",
       "      <th>50%</th>\n",
       "      <td>20773.000000</td>\n",
       "      <td>20468.680000</td>\n",
       "      <td>14381.755000</td>\n",
       "      <td>0.00000</td>\n",
       "      <td>0.0</td>\n",
       "    </tr>\n",
       "    <tr>\n",
       "      <th>75%</th>\n",
       "      <td>31186.750000</td>\n",
       "      <td>23182.235000</td>\n",
       "      <td>16732.470000</td>\n",
       "      <td>300.00000</td>\n",
       "      <td>0.0</td>\n",
       "    </tr>\n",
       "    <tr>\n",
       "      <th>max</th>\n",
       "      <td>40441.000000</td>\n",
       "      <td>34968.160000</td>\n",
       "      <td>27813.290000</td>\n",
       "      <td>300.00000</td>\n",
       "      <td>0.0</td>\n",
       "    </tr>\n",
       "  </tbody>\n",
       "</table>\n",
       "</div>"
      ],
      "text/plain": [
       "           cadastro     proventos       liquido  abonocovid  horaextracovid\n",
       "count     30.000000     30.000000     30.000000    30.00000            30.0\n",
       "mean   23134.033333  21590.124333  15815.949000   100.00000             0.0\n",
       "std     9823.534154   3975.318952   3012.216014   143.83899             0.0\n",
       "min     2118.000000  16697.370000  13746.660000     0.00000             0.0\n",
       "25%    17946.000000  19231.437500  13895.182500     0.00000             0.0\n",
       "50%    20773.000000  20468.680000  14381.755000     0.00000             0.0\n",
       "75%    31186.750000  23182.235000  16732.470000   300.00000             0.0\n",
       "max    40441.000000  34968.160000  27813.290000   300.00000             0.0"
      ]
     },
     "execution_count": 18,
     "metadata": {},
     "output_type": "execute_result"
    }
   ],
   "source": [
    "servidoresIrregularA105.describe()"
   ]
  },
  {
   "cell_type": "code",
   "execution_count": 19,
   "metadata": {},
   "outputs": [
    {
     "data": {
      "text/html": [
       "<div>\n",
       "<style scoped>\n",
       "    .dataframe tbody tr th:only-of-type {\n",
       "        vertical-align: middle;\n",
       "    }\n",
       "\n",
       "    .dataframe tbody tr th {\n",
       "        vertical-align: top;\n",
       "    }\n",
       "\n",
       "    .dataframe thead th {\n",
       "        text-align: right;\n",
       "    }\n",
       "</style>\n",
       "<table border=\"1\" class=\"dataframe\">\n",
       "  <thead>\n",
       "    <tr style=\"text-align: right;\">\n",
       "      <th></th>\n",
       "      <th>cadastro</th>\n",
       "      <th>nome</th>\n",
       "      <th>secretaria</th>\n",
       "      <th>proventos</th>\n",
       "      <th>liquido</th>\n",
       "      <th>situacao</th>\n",
       "      <th>vinculo</th>\n",
       "      <th>cargo</th>\n",
       "      <th>localabonocovid</th>\n",
       "      <th>abonocovid</th>\n",
       "      <th>horaextracovid</th>\n",
       "    </tr>\n",
       "  </thead>\n",
       "  <tbody>\n",
       "    <tr>\n",
       "      <th>2967</th>\n",
       "      <td>23230</td>\n",
       "      <td>IVAN VENDRAME</td>\n",
       "      <td>Procuradoria-Geral do Município</td>\n",
       "      <td>34968.16</td>\n",
       "      <td>27813.29</td>\n",
       "      <td>Ativo</td>\n",
       "      <td>ESTAT EFETIVO</td>\n",
       "      <td>PROCURADOR</td>\n",
       "      <td>N</td>\n",
       "      <td>0</td>\n",
       "      <td>0.0</td>\n",
       "    </tr>\n",
       "  </tbody>\n",
       "</table>\n",
       "</div>"
      ],
      "text/plain": [
       "      cadastro           nome                       secretaria  proventos  \\\n",
       "2967     23230  IVAN VENDRAME  Procuradoria-Geral do Município   34968.16   \n",
       "\n",
       "       liquido situacao        vinculo       cargo localabonocovid  \\\n",
       "2967  27813.29    Ativo  ESTAT EFETIVO  PROCURADOR               N   \n",
       "\n",
       "      abonocovid  horaextracovid  \n",
       "2967           0             0.0  "
      ]
     },
     "execution_count": 19,
     "metadata": {},
     "output_type": "execute_result"
    }
   ],
   "source": [
    "servidoresIrregularA105[servidoresIrregularA105['liquido'] == 27813.29]"
   ]
  },
  {
   "cell_type": "code",
   "execution_count": 20,
   "metadata": {},
   "outputs": [
    {
     "data": {
      "text/plain": [
       "82"
      ]
     },
     "execution_count": 20,
     "metadata": {},
     "output_type": "execute_result"
    }
   ],
   "source": [
    "semRepedidos = df['nome'].drop_duplicates().count()\n",
    "todos = df['nome'].count()\n",
    "todos - semRepedidos"
   ]
  }
 ],
 "metadata": {
  "kernelspec": {
   "display_name": "Python 3.10.8 ('sandbox': venv)",
   "language": "python",
   "name": "python3"
  },
  "language_info": {
   "codemirror_mode": {
    "name": "ipython",
    "version": 3
   },
   "file_extension": ".py",
   "mimetype": "text/x-python",
   "name": "python",
   "nbconvert_exporter": "python",
   "pygments_lexer": "ipython3",
   "version": "3.10.8"
  },
  "orig_nbformat": 4,
  "vscode": {
   "interpreter": {
    "hash": "b873e3c0fdb4ee2c4a38dd9914bcb4e3316f62b4a5bc3d639683ab05079b226f"
   }
  }
 },
 "nbformat": 4,
 "nbformat_minor": 2
}
