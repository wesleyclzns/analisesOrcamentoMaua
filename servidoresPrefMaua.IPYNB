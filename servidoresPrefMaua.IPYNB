{
 "cells": [
  {
   "cell_type": "code",
   "execution_count": 1,
   "metadata": {},
   "outputs": [
    {
     "name": "stderr",
     "output_type": "stream",
     "text": [
      "Matplotlib is building the font cache; this may take a moment.\n"
     ]
    }
   ],
   "source": [
    "import requests\n",
    "import pandas as pd\n",
    "import numpy as np\n",
    "import matplotlib.pyplot as plt"
   ]
  },
  {
   "cell_type": "markdown",
   "metadata": {},
   "source": [
    "### Solicitando dados via API e salvando em um csv\n",
    "\n",
    "fiz isso para ser mais rapido e evitar sobrecarregar os servidores da prefeitura. \n",
    "Só precisa rodar essa parte uma vez ou uma vez a cada novo mes"
   ]
  },
  {
   "cell_type": "code",
   "execution_count": 36,
   "metadata": {},
   "outputs": [],
   "source": [
    "anos_referencia = ['2015', '2016', '2017', '2018', '2019', '2020', '2021', '2022', '2023']\n",
    "meses_referencia = ['1','2','3','4','5','6','7','8','9','10','11','12']\n",
    "\n",
    "dados_tabelados = []\n",
    "\n",
    "for ano in anos_referencia:\n",
    "    for mes in meses_referencia:\n",
    "        requisicao = requests.get(f'https://sistemas.maua.sp.gov.br/Portaldatransparencia/API/Servidores/{mes}/{ano}')\n",
    "        if requisicao.status_code == 200:\n",
    "            servidores = requisicao.json()\n",
    "            df_mes = pd.DataFrame(servidores)\n",
    "            df_mes['mes'] = mes\n",
    "            df_mes['ano'] = ano  \n",
    "            dados_tabelados.append(df_mes)\n",
    "\n",
    "df = pd.concat(dados_tabelados, ignore_index=True)"
   ]
  },
  {
   "cell_type": "code",
   "execution_count": 48,
   "metadata": {},
   "outputs": [],
   "source": [
    "nomeArquivo = f\"dados_{anos_referencia[0]}_{anos_referencia[-1]}.csv\"\n",
    "\n",
    "caminho = './dados/' + nomeArquivo\n",
    "df.to_csv(caminho, index=False)"
   ]
  },
  {
   "cell_type": "markdown",
   "metadata": {},
   "source": [
    "### Tratamento dos dados"
   ]
  },
  {
   "cell_type": "code",
   "execution_count": 2,
   "metadata": {},
   "outputs": [],
   "source": [
    "df = pd.read_csv('./dados/dados_2015_2023.csv')"
   ]
  },
  {
   "cell_type": "code",
   "execution_count": 3,
   "metadata": {},
   "outputs": [
    {
     "data": {
      "text/plain": [
       "Index(['cadastro', 'nome', 'secretaria', 'proventos', 'liquido', 'situacao',\n",
       "       'vinculo', 'cargo', 'localabonocovid', 'abonocovid', 'horaextracovid',\n",
       "       'mes', 'ano'],\n",
       "      dtype='object')"
      ]
     },
     "execution_count": 3,
     "metadata": {},
     "output_type": "execute_result"
    }
   ],
   "source": [
    "df.columns"
   ]
  },
  {
   "cell_type": "code",
   "execution_count": 4,
   "metadata": {},
   "outputs": [
    {
     "data": {
      "text/plain": [
       "cadastro             int64\n",
       "nome                object\n",
       "secretaria          object\n",
       "proventos          float64\n",
       "liquido            float64\n",
       "situacao            object\n",
       "vinculo             object\n",
       "cargo               object\n",
       "localabonocovid     object\n",
       "abonocovid           int64\n",
       "horaextracovid     float64\n",
       "mes                  int64\n",
       "ano                  int64\n",
       "dtype: object"
      ]
     },
     "execution_count": 4,
     "metadata": {},
     "output_type": "execute_result"
    }
   ],
   "source": [
    "df.dtypes"
   ]
  },
  {
   "cell_type": "code",
   "execution_count": 5,
   "metadata": {},
   "outputs": [],
   "source": [
    "df['liquido'] = df['liquido'].astype(float)\n",
    "df['proventos'] = df['proventos'].astype(float)\n",
    "df['cadastro'] = df['cadastro'].astype(int)\n",
    "df['abonocovid'] = df['abonocovid'].astype(int)\n",
    "df['horaextracovid'] = df['horaextracovid'].astype(float)\n",
    "df['ano'] = df['ano'].astype(str)\n",
    "df['mes'] = df['mes'].astype(str)"
   ]
  },
  {
   "cell_type": "code",
   "execution_count": 6,
   "metadata": {},
   "outputs": [
    {
     "data": {
      "text/plain": [
       "cadastro             int32\n",
       "nome                object\n",
       "secretaria          object\n",
       "proventos          float64\n",
       "liquido            float64\n",
       "situacao            object\n",
       "vinculo             object\n",
       "cargo               object\n",
       "localabonocovid     object\n",
       "abonocovid           int32\n",
       "horaextracovid     float64\n",
       "mes                 object\n",
       "ano                 object\n",
       "dtype: object"
      ]
     },
     "execution_count": 6,
     "metadata": {},
     "output_type": "execute_result"
    }
   ],
   "source": [
    "df.dtypes"
   ]
  },
  {
   "cell_type": "code",
   "execution_count": 7,
   "metadata": {},
   "outputs": [
    {
     "data": {
      "text/html": [
       "<div>\n",
       "<style scoped>\n",
       "    .dataframe tbody tr th:only-of-type {\n",
       "        vertical-align: middle;\n",
       "    }\n",
       "\n",
       "    .dataframe tbody tr th {\n",
       "        vertical-align: top;\n",
       "    }\n",
       "\n",
       "    .dataframe thead th {\n",
       "        text-align: right;\n",
       "    }\n",
       "</style>\n",
       "<table border=\"1\" class=\"dataframe\">\n",
       "  <thead>\n",
       "    <tr style=\"text-align: right;\">\n",
       "      <th></th>\n",
       "      <th>cadastro</th>\n",
       "      <th>nome</th>\n",
       "      <th>secretaria</th>\n",
       "      <th>proventos</th>\n",
       "      <th>liquido</th>\n",
       "      <th>situacao</th>\n",
       "      <th>vinculo</th>\n",
       "      <th>cargo</th>\n",
       "      <th>localabonocovid</th>\n",
       "      <th>abonocovid</th>\n",
       "      <th>horaextracovid</th>\n",
       "      <th>mes</th>\n",
       "      <th>ano</th>\n",
       "    </tr>\n",
       "  </thead>\n",
       "  <tbody>\n",
       "    <tr>\n",
       "      <th>0</th>\n",
       "      <td>33159</td>\n",
       "      <td>ABIGAIL MORAES DE SOUSA OLIVEIRA</td>\n",
       "      <td>Secretaria de Educação</td>\n",
       "      <td>1778.0</td>\n",
       "      <td>1464.63</td>\n",
       "      <td>Outra</td>\n",
       "      <td>Prazo Determinado</td>\n",
       "      <td>PROFESSOR I - JED I</td>\n",
       "      <td>N</td>\n",
       "      <td>0</td>\n",
       "      <td>0.0</td>\n",
       "      <td>1</td>\n",
       "      <td>2015</td>\n",
       "    </tr>\n",
       "    <tr>\n",
       "      <th>1</th>\n",
       "      <td>4000047</td>\n",
       "      <td>ABILIO MANOEL MATHIOLI</td>\n",
       "      <td>Secretaria de Cidadania e Ação Social</td>\n",
       "      <td>2600.0</td>\n",
       "      <td>1261.49</td>\n",
       "      <td>Outra</td>\n",
       "      <td>Conselheiros</td>\n",
       "      <td>CONSELHEIRO TUTELAR</td>\n",
       "      <td>N</td>\n",
       "      <td>0</td>\n",
       "      <td>0.0</td>\n",
       "      <td>1</td>\n",
       "      <td>2015</td>\n",
       "    </tr>\n",
       "  </tbody>\n",
       "</table>\n",
       "</div>"
      ],
      "text/plain": [
       "   cadastro                              nome   \n",
       "0     33159  ABIGAIL MORAES DE SOUSA OLIVEIRA  \\\n",
       "1   4000047            ABILIO MANOEL MATHIOLI   \n",
       "\n",
       "                              secretaria  proventos  liquido situacao   \n",
       "0                 Secretaria de Educação     1778.0  1464.63    Outra  \\\n",
       "1  Secretaria de Cidadania e Ação Social     2600.0  1261.49    Outra   \n",
       "\n",
       "              vinculo                cargo localabonocovid  abonocovid   \n",
       "0  Prazo Determinado   PROFESSOR I - JED I               N           0  \\\n",
       "1        Conselheiros  CONSELHEIRO TUTELAR               N           0   \n",
       "\n",
       "   horaextracovid mes   ano  \n",
       "0             0.0   1  2015  \n",
       "1             0.0   1  2015  "
      ]
     },
     "execution_count": 7,
     "metadata": {},
     "output_type": "execute_result"
    }
   ],
   "source": [
    "df.head(2)"
   ]
  },
  {
   "cell_type": "markdown",
   "metadata": {},
   "source": [
    "Gestões - fonte (https://www.maua.sp.gov.br/PerfilMunicipal/Prefeitos.aspx)\n",
    "\n",
    "\n",
    "01/01/2013 a 31/12/2016 - Donisete Braga  \n",
    "01/01/2017 a 31/12/2020 - Atila Jacomussi  \n",
    "01/01/2021 a 31/12/2024 - Francisco Marcelo de Oliveira  \n"
   ]
  },
  {
   "cell_type": "code",
   "execution_count": 28,
   "metadata": {},
   "outputs": [],
   "source": [
    "donisete = ['2015','2016']\n",
    "atila = ['2017','2018','2019','2020']\n",
    "marcelo = ['2021','2022','2023']\n",
    "\n",
    "dfGestaoDonisete = df[df['ano'].isin(donisete)]\n",
    "dfGestaoAtila = df[df['ano'].isin(atila)]\n",
    "dfGestaoMarcelo = df[df['ano'].isin(marcelo)]"
   ]
  },
  {
   "cell_type": "markdown",
   "metadata": {},
   "source": [
    "## Analise exploratoria - Gestão Marcelo Oliveira"
   ]
  },
  {
   "cell_type": "code",
   "execution_count": 29,
   "metadata": {},
   "outputs": [
    {
     "data": {
      "text/html": [
       "<div>\n",
       "<style scoped>\n",
       "    .dataframe tbody tr th:only-of-type {\n",
       "        vertical-align: middle;\n",
       "    }\n",
       "\n",
       "    .dataframe tbody tr th {\n",
       "        vertical-align: top;\n",
       "    }\n",
       "\n",
       "    .dataframe thead th {\n",
       "        text-align: right;\n",
       "    }\n",
       "</style>\n",
       "<table border=\"1\" class=\"dataframe\">\n",
       "  <thead>\n",
       "    <tr style=\"text-align: right;\">\n",
       "      <th></th>\n",
       "      <th>cadastro</th>\n",
       "      <th>nome</th>\n",
       "      <th>secretaria</th>\n",
       "      <th>proventos</th>\n",
       "      <th>liquido</th>\n",
       "      <th>situacao</th>\n",
       "      <th>vinculo</th>\n",
       "      <th>cargo</th>\n",
       "      <th>localabonocovid</th>\n",
       "      <th>abonocovid</th>\n",
       "      <th>horaextracovid</th>\n",
       "      <th>mes</th>\n",
       "      <th>ano</th>\n",
       "    </tr>\n",
       "  </thead>\n",
       "  <tbody>\n",
       "    <tr>\n",
       "      <th>627201</th>\n",
       "      <td>29874</td>\n",
       "      <td>ZULEIDE MARIA DA SILVA</td>\n",
       "      <td>Secretaria de Educação</td>\n",
       "      <td>5232.90</td>\n",
       "      <td>3443.07</td>\n",
       "      <td>Ativo</td>\n",
       "      <td>ESTAT EFETIVO</td>\n",
       "      <td>PEB I</td>\n",
       "      <td>N</td>\n",
       "      <td>0</td>\n",
       "      <td>0.0</td>\n",
       "      <td>7</td>\n",
       "      <td>2023</td>\n",
       "    </tr>\n",
       "    <tr>\n",
       "      <th>627202</th>\n",
       "      <td>33682</td>\n",
       "      <td>ZULEIDE MARIA DOS SANTOS EUFRASIO</td>\n",
       "      <td>Secretaria de Educação</td>\n",
       "      <td>4904.61</td>\n",
       "      <td>4091.43</td>\n",
       "      <td>Ativo</td>\n",
       "      <td>ESTAT EFETIVO</td>\n",
       "      <td>AUX. DESENV. INFANTIL III</td>\n",
       "      <td>N</td>\n",
       "      <td>0</td>\n",
       "      <td>0.0</td>\n",
       "      <td>7</td>\n",
       "      <td>2023</td>\n",
       "    </tr>\n",
       "  </tbody>\n",
       "</table>\n",
       "</div>"
      ],
      "text/plain": [
       "        cadastro                               nome              secretaria   \n",
       "627201     29874             ZULEIDE MARIA DA SILVA  Secretaria de Educação  \\\n",
       "627202     33682  ZULEIDE MARIA DOS SANTOS EUFRASIO  Secretaria de Educação   \n",
       "\n",
       "        proventos  liquido situacao        vinculo                      cargo   \n",
       "627201    5232.90  3443.07    Ativo  ESTAT EFETIVO                      PEB I  \\\n",
       "627202    4904.61  4091.43    Ativo  ESTAT EFETIVO  AUX. DESENV. INFANTIL III   \n",
       "\n",
       "       localabonocovid  abonocovid  horaextracovid mes   ano  \n",
       "627201               N           0             0.0   7  2023  \n",
       "627202               N           0             0.0   7  2023  "
      ]
     },
     "execution_count": 29,
     "metadata": {},
     "output_type": "execute_result"
    }
   ],
   "source": [
    "dfGestaoMarcelo.tail(2)"
   ]
  },
  {
   "cell_type": "code",
   "execution_count": 10,
   "metadata": {},
   "outputs": [
    {
     "data": {
      "text/html": [
       "<div>\n",
       "<style scoped>\n",
       "    .dataframe tbody tr th:only-of-type {\n",
       "        vertical-align: middle;\n",
       "    }\n",
       "\n",
       "    .dataframe tbody tr th {\n",
       "        vertical-align: top;\n",
       "    }\n",
       "\n",
       "    .dataframe thead th {\n",
       "        text-align: right;\n",
       "    }\n",
       "</style>\n",
       "<table border=\"1\" class=\"dataframe\">\n",
       "  <thead>\n",
       "    <tr style=\"text-align: right;\">\n",
       "      <th></th>\n",
       "      <th>cadastro</th>\n",
       "      <th>proventos</th>\n",
       "      <th>liquido</th>\n",
       "      <th>abonocovid</th>\n",
       "      <th>horaextracovid</th>\n",
       "    </tr>\n",
       "  </thead>\n",
       "  <tbody>\n",
       "    <tr>\n",
       "      <th>count</th>\n",
       "      <td>2.039230e+05</td>\n",
       "      <td>203923.000000</td>\n",
       "      <td>203923.000000</td>\n",
       "      <td>203923.000000</td>\n",
       "      <td>203923.000000</td>\n",
       "    </tr>\n",
       "    <tr>\n",
       "      <th>mean</th>\n",
       "      <td>5.431335e+05</td>\n",
       "      <td>5081.505976</td>\n",
       "      <td>3827.905650</td>\n",
       "      <td>66.283646</td>\n",
       "      <td>6.694416</td>\n",
       "    </tr>\n",
       "    <tr>\n",
       "      <th>std</th>\n",
       "      <td>1.650358e+06</td>\n",
       "      <td>2997.986523</td>\n",
       "      <td>2146.640156</td>\n",
       "      <td>123.953579</td>\n",
       "      <td>68.850894</td>\n",
       "    </tr>\n",
       "    <tr>\n",
       "      <th>min</th>\n",
       "      <td>1.040000e+02</td>\n",
       "      <td>0.000000</td>\n",
       "      <td>-49421.420000</td>\n",
       "      <td>0.000000</td>\n",
       "      <td>0.000000</td>\n",
       "    </tr>\n",
       "    <tr>\n",
       "      <th>25%</th>\n",
       "      <td>2.066900e+04</td>\n",
       "      <td>3246.710000</td>\n",
       "      <td>2520.495000</td>\n",
       "      <td>0.000000</td>\n",
       "      <td>0.000000</td>\n",
       "    </tr>\n",
       "    <tr>\n",
       "      <th>50%</th>\n",
       "      <td>3.282200e+04</td>\n",
       "      <td>4335.150000</td>\n",
       "      <td>3367.780000</td>\n",
       "      <td>0.000000</td>\n",
       "      <td>0.000000</td>\n",
       "    </tr>\n",
       "    <tr>\n",
       "      <th>75%</th>\n",
       "      <td>3.935300e+04</td>\n",
       "      <td>6019.630000</td>\n",
       "      <td>4544.685000</td>\n",
       "      <td>0.000000</td>\n",
       "      <td>0.000000</td>\n",
       "    </tr>\n",
       "    <tr>\n",
       "      <th>max</th>\n",
       "      <td>9.000122e+06</td>\n",
       "      <td>46615.040000</td>\n",
       "      <td>29079.350000</td>\n",
       "      <td>900.000000</td>\n",
       "      <td>2404.250000</td>\n",
       "    </tr>\n",
       "  </tbody>\n",
       "</table>\n",
       "</div>"
      ],
      "text/plain": [
       "           cadastro      proventos        liquido     abonocovid   \n",
       "count  2.039230e+05  203923.000000  203923.000000  203923.000000  \\\n",
       "mean   5.431335e+05    5081.505976    3827.905650      66.283646   \n",
       "std    1.650358e+06    2997.986523    2146.640156     123.953579   \n",
       "min    1.040000e+02       0.000000  -49421.420000       0.000000   \n",
       "25%    2.066900e+04    3246.710000    2520.495000       0.000000   \n",
       "50%    3.282200e+04    4335.150000    3367.780000       0.000000   \n",
       "75%    3.935300e+04    6019.630000    4544.685000       0.000000   \n",
       "max    9.000122e+06   46615.040000   29079.350000     900.000000   \n",
       "\n",
       "       horaextracovid  \n",
       "count   203923.000000  \n",
       "mean         6.694416  \n",
       "std         68.850894  \n",
       "min          0.000000  \n",
       "25%          0.000000  \n",
       "50%          0.000000  \n",
       "75%          0.000000  \n",
       "max       2404.250000  "
      ]
     },
     "execution_count": 10,
     "metadata": {},
     "output_type": "execute_result"
    }
   ],
   "source": [
    "dfGestaoMarcelo.describe()"
   ]
  },
  {
   "cell_type": "code",
   "execution_count": 11,
   "metadata": {},
   "outputs": [
    {
     "data": {
      "image/png": "[encoded data removed]",
      "text/plain": [
       "<Figure size 640x480 with 1 Axes>"
      ]
     },
     "metadata": {},
     "output_type": "display_data"
    }
   ],
   "source": [
    "dfGestaoMarcelo['proventos'].hist()\n",
    "plt.title(f'Histograma de proventos')\n",
    "plt.xlabel('Proventos')\n",
    "plt.ylabel('Frequência')\n",
    "plt.grid(True)\n",
    "plt.show()"
   ]
  },
  {
   "cell_type": "code",
   "execution_count": 72,
   "metadata": {},
   "outputs": [
    {
     "data": {
      "image/png": "[encoded data removed]",
      "text/plain": [
       "<Figure size 640x480 with 1 Axes>"
      ]
     },
     "metadata": {},
     "output_type": "display_data"
    }
   ],
   "source": [
    "plt.scatter(dfGestaoMarcelo['proventos'], dfGestaoMarcelo['liquido'])\n",
    "\n",
    "plt.title(f'Gráfico de Dispersão entre proventos e rendimento liquido')\n",
    "plt.xlabel('proventos')\n",
    "plt.ylabel('rendimento liquido')\n",
    "plt.grid(True)\n",
    "plt.show()"
   ]
  },
  {
   "cell_type": "code",
   "execution_count": 13,
   "metadata": {},
   "outputs": [
    {
     "data": {
      "text/plain": [
       "46615.04"
      ]
     },
     "execution_count": 13,
     "metadata": {},
     "output_type": "execute_result"
    }
   ],
   "source": [
    "dfGestaoMarcelo['proventos'].max()"
   ]
  },
  {
   "cell_type": "code",
   "execution_count": 24,
   "metadata": {},
   "outputs": [
    {
     "data": {
      "text/html": [
       "<div>\n",
       "<style scoped>\n",
       "    .dataframe tbody tr th:only-of-type {\n",
       "        vertical-align: middle;\n",
       "    }\n",
       "\n",
       "    .dataframe tbody tr th {\n",
       "        vertical-align: top;\n",
       "    }\n",
       "\n",
       "    .dataframe thead th {\n",
       "        text-align: right;\n",
       "    }\n",
       "</style>\n",
       "<table border=\"1\" class=\"dataframe\">\n",
       "  <thead>\n",
       "    <tr style=\"text-align: right;\">\n",
       "      <th></th>\n",
       "      <th>cadastro</th>\n",
       "      <th>nome</th>\n",
       "      <th>secretaria</th>\n",
       "      <th>proventos</th>\n",
       "      <th>liquido</th>\n",
       "      <th>situacao</th>\n",
       "      <th>vinculo</th>\n",
       "      <th>cargo</th>\n",
       "      <th>localabonocovid</th>\n",
       "      <th>abonocovid</th>\n",
       "      <th>horaextracovid</th>\n",
       "      <th>mes</th>\n",
       "      <th>ano</th>\n",
       "    </tr>\n",
       "  </thead>\n",
       "  <tbody>\n",
       "    <tr>\n",
       "      <th>604302</th>\n",
       "      <td>17600</td>\n",
       "      <td>SOLANGE CRISTINA MONTESANTI</td>\n",
       "      <td>Secretaria de Segurança Pública</td>\n",
       "      <td>46615.04</td>\n",
       "      <td>17563.62</td>\n",
       "      <td>Ativo</td>\n",
       "      <td>ESTAT COMISS</td>\n",
       "      <td>COMANDANTE DA GCM</td>\n",
       "      <td>N</td>\n",
       "      <td>0</td>\n",
       "      <td>0.0</td>\n",
       "      <td>4</td>\n",
       "      <td>2023</td>\n",
       "    </tr>\n",
       "  </tbody>\n",
       "</table>\n",
       "</div>"
      ],
      "text/plain": [
       "        cadastro                         nome   \n",
       "604302     17600  SOLANGE CRISTINA MONTESANTI  \\\n",
       "\n",
       "                             secretaria  proventos   liquido situacao   \n",
       "604302  Secretaria de Segurança Pública   46615.04  17563.62    Ativo  \\\n",
       "\n",
       "             vinculo              cargo localabonocovid  abonocovid   \n",
       "604302  ESTAT COMISS  COMANDANTE DA GCM               N           0  \\\n",
       "\n",
       "        horaextracovid mes   ano  \n",
       "604302             0.0   4  2023  "
      ]
     },
     "execution_count": 24,
     "metadata": {},
     "output_type": "execute_result"
    }
   ],
   "source": [
    "valor = dfGestaoMarcelo['proventos'].max()\n",
    "filtroMaximo = dfGestaoMarcelo[dfGestaoMarcelo['proventos'] ==  valor]\n",
    "filtroMaximo"
   ]
  },
  {
   "cell_type": "code",
   "execution_count": 30,
   "metadata": {},
   "outputs": [],
   "source": [
    "prefeito = dfGestaoMarcelo['cargo']=='PREFEITO'\n",
    "salarioPrefeitoMarcelo = dfGestaoMarcelo.loc[prefeito]"
   ]
  },
  {
   "cell_type": "code",
   "execution_count": 31,
   "metadata": {},
   "outputs": [
    {
     "data": {
      "text/html": [
       "<div>\n",
       "<style scoped>\n",
       "    .dataframe tbody tr th:only-of-type {\n",
       "        vertical-align: middle;\n",
       "    }\n",
       "\n",
       "    .dataframe tbody tr th {\n",
       "        vertical-align: top;\n",
       "    }\n",
       "\n",
       "    .dataframe thead th {\n",
       "        text-align: right;\n",
       "    }\n",
       "</style>\n",
       "<table border=\"1\" class=\"dataframe\">\n",
       "  <thead>\n",
       "    <tr style=\"text-align: right;\">\n",
       "      <th></th>\n",
       "      <th>cadastro</th>\n",
       "      <th>nome</th>\n",
       "      <th>secretaria</th>\n",
       "      <th>proventos</th>\n",
       "      <th>liquido</th>\n",
       "      <th>situacao</th>\n",
       "      <th>vinculo</th>\n",
       "      <th>cargo</th>\n",
       "      <th>localabonocovid</th>\n",
       "      <th>abonocovid</th>\n",
       "      <th>horaextracovid</th>\n",
       "      <th>mes</th>\n",
       "      <th>ano</th>\n",
       "    </tr>\n",
       "  </thead>\n",
       "  <tbody>\n",
       "    <tr>\n",
       "      <th>426657</th>\n",
       "      <td>38797</td>\n",
       "      <td>MARCELO OLIVEIRA</td>\n",
       "      <td>Gabinete do Prefeito</td>\n",
       "      <td>18576.09</td>\n",
       "      <td>13791.85</td>\n",
       "      <td>Ativo</td>\n",
       "      <td>CARGO ELETIVO (PREF)</td>\n",
       "      <td>PREFEITO</td>\n",
       "      <td>N</td>\n",
       "      <td>0</td>\n",
       "      <td>0.0</td>\n",
       "      <td>1</td>\n",
       "      <td>2021</td>\n",
       "    </tr>\n",
       "    <tr>\n",
       "      <th>432496</th>\n",
       "      <td>38797</td>\n",
       "      <td>MARCELO OLIVEIRA</td>\n",
       "      <td>Gabinete do Prefeito</td>\n",
       "      <td>18576.09</td>\n",
       "      <td>13791.85</td>\n",
       "      <td>Ativo</td>\n",
       "      <td>CARGO ELETIVO (PREF)</td>\n",
       "      <td>PREFEITO</td>\n",
       "      <td>N</td>\n",
       "      <td>0</td>\n",
       "      <td>0.0</td>\n",
       "      <td>2</td>\n",
       "      <td>2021</td>\n",
       "    </tr>\n",
       "  </tbody>\n",
       "</table>\n",
       "</div>"
      ],
      "text/plain": [
       "        cadastro              nome            secretaria  proventos   liquido   \n",
       "426657     38797  MARCELO OLIVEIRA  Gabinete do Prefeito   18576.09  13791.85  \\\n",
       "432496     38797  MARCELO OLIVEIRA  Gabinete do Prefeito   18576.09  13791.85   \n",
       "\n",
       "       situacao               vinculo     cargo localabonocovid  abonocovid   \n",
       "426657    Ativo  CARGO ELETIVO (PREF)  PREFEITO               N           0  \\\n",
       "432496    Ativo  CARGO ELETIVO (PREF)  PREFEITO               N           0   \n",
       "\n",
       "        horaextracovid mes   ano  \n",
       "426657             0.0   1  2021  \n",
       "432496             0.0   2  2021  "
      ]
     },
     "execution_count": 31,
     "metadata": {},
     "output_type": "execute_result"
    }
   ],
   "source": [
    "salarioPrefeitoMarcelo.head(2)"
   ]
  },
  {
   "cell_type": "code",
   "execution_count": 33,
   "metadata": {},
   "outputs": [
    {
     "name": "stdout",
     "output_type": "stream",
     "text": [
      "Média dos Proventos Prefeito: 18576.09, Mediana: 18576.09, Moda: 18576.09\n"
     ]
    }
   ],
   "source": [
    "mediaProventoPrefeito = salarioPrefeitoMarcelo['proventos'].mean()\n",
    "medianaProventoPrefeito = salarioPrefeitoMarcelo['proventos'].median()\n",
    "modaProventoPrefeito = salarioPrefeitoMarcelo['proventos'].mode()\n",
    "\n",
    "print(f\"Média dos Proventos Prefeito: {mediaProventoPrefeito:.2f}, Mediana: {medianaProventoPrefeito:.2f}, Moda: {modaProventoPrefeito.iloc[0]}\")\n"
   ]
  },
  {
   "cell_type": "code",
   "execution_count": 35,
   "metadata": {},
   "outputs": [
    {
     "name": "stdout",
     "output_type": "stream",
     "text": [
      "Variação Percentual dos Proventos do Prefeito: 0.00%\n"
     ]
    }
   ],
   "source": [
    "proventos_max = salarioPrefeitoMarcelo['proventos'].max()\n",
    "proventos_min = salarioPrefeitoMarcelo['proventos'].min()\n",
    "\n",
    "variacao_percentual = ((proventos_max - proventos_min) / proventos_min) * 100\n",
    "\n",
    "print(f\"Variação Percentual dos Proventos do Prefeito: {variacao_percentual:.2f}%\")\n"
   ]
  },
  {
   "cell_type": "markdown",
   "metadata": {},
   "source": [
    "A CF estabelece que o teto do funcionalismo publico municipal é o salario bruto do chefe do executivo, no caso o prefeito. O salario bruto, aqui lido pelo portal de transparencia municipal como provento, o salario bruto do prefeito é de R$ 18576,09"
   ]
  },
  {
   "cell_type": "code",
   "execution_count": 134,
   "metadata": {},
   "outputs": [
    {
     "data": {
      "text/plain": [
       "18576.09"
      ]
     },
     "execution_count": 134,
     "metadata": {},
     "output_type": "execute_result"
    }
   ],
   "source": [
    "tetoFuncionalismo = medianaProventoPrefeito\n",
    "tetoFuncionalismo"
   ]
  },
  {
   "cell_type": "code",
   "execution_count": 40,
   "metadata": {},
   "outputs": [],
   "source": [
    "furadores = dfGestaoMarcelo['proventos']>= tetoFuncionalismo\n",
    "dfFuradoresGM = dfGestaoMarcelo.loc[furadores]"
   ]
  },
  {
   "cell_type": "code",
   "execution_count": 59,
   "metadata": {},
   "outputs": [
    {
     "data": {
      "text/html": [
       "<div>\n",
       "<style scoped>\n",
       "    .dataframe tbody tr th:only-of-type {\n",
       "        vertical-align: middle;\n",
       "    }\n",
       "\n",
       "    .dataframe tbody tr th {\n",
       "        vertical-align: top;\n",
       "    }\n",
       "\n",
       "    .dataframe thead th {\n",
       "        text-align: right;\n",
       "    }\n",
       "</style>\n",
       "<table border=\"1\" class=\"dataframe\">\n",
       "  <thead>\n",
       "    <tr style=\"text-align: right;\">\n",
       "      <th></th>\n",
       "      <th>cadastro</th>\n",
       "      <th>nome</th>\n",
       "      <th>secretaria</th>\n",
       "      <th>proventos</th>\n",
       "      <th>liquido</th>\n",
       "      <th>situacao</th>\n",
       "      <th>vinculo</th>\n",
       "      <th>cargo</th>\n",
       "      <th>localabonocovid</th>\n",
       "      <th>abonocovid</th>\n",
       "      <th>horaextracovid</th>\n",
       "      <th>mes</th>\n",
       "      <th>ano</th>\n",
       "    </tr>\n",
       "  </thead>\n",
       "  <tbody>\n",
       "    <tr>\n",
       "      <th>423506</th>\n",
       "      <td>22727</td>\n",
       "      <td>ALEXANDRE SILVA</td>\n",
       "      <td>Secretaria de Finanças</td>\n",
       "      <td>26600.02</td>\n",
       "      <td>18384.00</td>\n",
       "      <td>Ativo</td>\n",
       "      <td>ESTAT EFETIVO</td>\n",
       "      <td>AUD.FISC.TRIB. MUNICIPAIS II</td>\n",
       "      <td>N</td>\n",
       "      <td>0</td>\n",
       "      <td>0.0</td>\n",
       "      <td>1</td>\n",
       "      <td>2021</td>\n",
       "    </tr>\n",
       "    <tr>\n",
       "      <th>423720</th>\n",
       "      <td>21246</td>\n",
       "      <td>ANDRE DE ARIMATEIA DE SOUZA LINO</td>\n",
       "      <td>Secretaria de Saúde</td>\n",
       "      <td>19524.82</td>\n",
       "      <td>13896.12</td>\n",
       "      <td>Ativo</td>\n",
       "      <td>ESTAT EFETIVO</td>\n",
       "      <td>MEDICO-CIRURGIAO GERAL 40H</td>\n",
       "      <td>S</td>\n",
       "      <td>300</td>\n",
       "      <td>0.0</td>\n",
       "      <td>1</td>\n",
       "      <td>2021</td>\n",
       "    </tr>\n",
       "    <tr>\n",
       "      <th>423732</th>\n",
       "      <td>18409</td>\n",
       "      <td>ANDREA CHAVES FERREIRA SANTO AZZOLINI</td>\n",
       "      <td>Secretaria de Saúde</td>\n",
       "      <td>18990.85</td>\n",
       "      <td>13843.98</td>\n",
       "      <td>Ativo</td>\n",
       "      <td>ESTAT EFETIVO</td>\n",
       "      <td>MEDICO-GINECOLOGISTA 40H</td>\n",
       "      <td>S</td>\n",
       "      <td>300</td>\n",
       "      <td>0.0</td>\n",
       "      <td>1</td>\n",
       "      <td>2021</td>\n",
       "    </tr>\n",
       "    <tr>\n",
       "      <th>423812</th>\n",
       "      <td>12745</td>\n",
       "      <td>ANGELA MARIA BARADEL</td>\n",
       "      <td>Secretaria de Finanças</td>\n",
       "      <td>25513.04</td>\n",
       "      <td>18046.33</td>\n",
       "      <td>Ativo</td>\n",
       "      <td>ESTAT EFETIVO</td>\n",
       "      <td>AUDITOR FISC. TRIB. MUNICIPAIS</td>\n",
       "      <td>N</td>\n",
       "      <td>0</td>\n",
       "      <td>0.0</td>\n",
       "      <td>1</td>\n",
       "      <td>2021</td>\n",
       "    </tr>\n",
       "    <tr>\n",
       "      <th>424087</th>\n",
       "      <td>17875</td>\n",
       "      <td>CARLOS ALBERTO GALVAO</td>\n",
       "      <td>Secretaria de Saúde</td>\n",
       "      <td>18990.85</td>\n",
       "      <td>13791.85</td>\n",
       "      <td>Ativo</td>\n",
       "      <td>ESTAT EFETIVO</td>\n",
       "      <td>MEDICO-GENERALISTA 40H</td>\n",
       "      <td>S</td>\n",
       "      <td>300</td>\n",
       "      <td>0.0</td>\n",
       "      <td>1</td>\n",
       "      <td>2021</td>\n",
       "    </tr>\n",
       "  </tbody>\n",
       "</table>\n",
       "</div>"
      ],
      "text/plain": [
       "        cadastro                                   nome   \n",
       "423506     22727                        ALEXANDRE SILVA  \\\n",
       "423720     21246       ANDRE DE ARIMATEIA DE SOUZA LINO   \n",
       "423732     18409  ANDREA CHAVES FERREIRA SANTO AZZOLINI   \n",
       "423812     12745                   ANGELA MARIA BARADEL   \n",
       "424087     17875                  CARLOS ALBERTO GALVAO   \n",
       "\n",
       "                    secretaria  proventos   liquido situacao        vinculo   \n",
       "423506  Secretaria de Finanças   26600.02  18384.00    Ativo  ESTAT EFETIVO  \\\n",
       "423720     Secretaria de Saúde   19524.82  13896.12    Ativo  ESTAT EFETIVO   \n",
       "423732     Secretaria de Saúde   18990.85  13843.98    Ativo  ESTAT EFETIVO   \n",
       "423812  Secretaria de Finanças   25513.04  18046.33    Ativo  ESTAT EFETIVO   \n",
       "424087     Secretaria de Saúde   18990.85  13791.85    Ativo  ESTAT EFETIVO   \n",
       "\n",
       "                                 cargo localabonocovid  abonocovid   \n",
       "423506    AUD.FISC.TRIB. MUNICIPAIS II               N           0  \\\n",
       "423720      MEDICO-CIRURGIAO GERAL 40H               S         300   \n",
       "423732        MEDICO-GINECOLOGISTA 40H               S         300   \n",
       "423812  AUDITOR FISC. TRIB. MUNICIPAIS               N           0   \n",
       "424087          MEDICO-GENERALISTA 40H               S         300   \n",
       "\n",
       "        horaextracovid mes   ano  \n",
       "423506             0.0   1  2021  \n",
       "423720             0.0   1  2021  \n",
       "423732             0.0   1  2021  \n",
       "423812             0.0   1  2021  \n",
       "424087             0.0   1  2021  "
      ]
     },
     "execution_count": 59,
     "metadata": {},
     "output_type": "execute_result"
    }
   ],
   "source": [
    "dfFuradoresGM.head(5)"
   ]
  },
  {
   "cell_type": "code",
   "execution_count": 43,
   "metadata": {},
   "outputs": [
    {
     "data": {
      "text/plain": [
       "cadastro           1460\n",
       "nome               1460\n",
       "secretaria         1460\n",
       "proventos          1460\n",
       "liquido            1460\n",
       "situacao           1460\n",
       "vinculo            1460\n",
       "cargo              1460\n",
       "localabonocovid    1460\n",
       "abonocovid         1460\n",
       "horaextracovid     1460\n",
       "mes                1460\n",
       "ano                1460\n",
       "dtype: int64"
      ]
     },
     "execution_count": 43,
     "metadata": {},
     "output_type": "execute_result"
    }
   ],
   "source": [
    "dfFuradoresGM.count()"
   ]
  },
  {
   "cell_type": "markdown",
   "metadata": {},
   "source": [
    "Os procuradores municipais não tem o teto com o salario do prefeito"
   ]
  },
  {
   "cell_type": "code",
   "execution_count": 44,
   "metadata": {},
   "outputs": [],
   "source": [
    "procuradores = dfFuradoresGM[dfFuradoresGM['cargo'] == 'PROCURADOR']\n",
    "dfFuradoresGM = dfFuradoresGM.drop(procuradores.index)"
   ]
  },
  {
   "cell_type": "code",
   "execution_count": 45,
   "metadata": {},
   "outputs": [
    {
     "data": {
      "text/plain": [
       "cadastro           1328\n",
       "nome               1328\n",
       "secretaria         1328\n",
       "proventos          1328\n",
       "liquido            1328\n",
       "situacao           1328\n",
       "vinculo            1328\n",
       "cargo              1328\n",
       "localabonocovid    1328\n",
       "abonocovid         1328\n",
       "horaextracovid     1328\n",
       "mes                1328\n",
       "ano                1328\n",
       "dtype: int64"
      ]
     },
     "execution_count": 45,
     "metadata": {},
     "output_type": "execute_result"
    }
   ],
   "source": [
    "dfFuradoresGM.count()"
   ]
  },
  {
   "cell_type": "code",
   "execution_count": 96,
   "metadata": {},
   "outputs": [
    {
     "data": {
      "text/plain": [
       "26"
      ]
     },
     "execution_count": 96,
     "metadata": {},
     "output_type": "execute_result"
    }
   ],
   "source": [
    "dfFuradoresGM['secretaria'].nunique()\n"
   ]
  },
  {
   "cell_type": "code",
   "execution_count": 101,
   "metadata": {},
   "outputs": [
    {
     "data": {
      "text/plain": [
       "secretaria    26\n",
       "dtype: int64"
      ]
     },
     "execution_count": 101,
     "metadata": {},
     "output_type": "execute_result"
    }
   ],
   "source": [
    "dfSecretarias = dfFuradoresGM[['secretaria']].drop_duplicates()\n",
    "\n",
    "dfSecretarias.count()\n"
   ]
  },
  {
   "cell_type": "code",
   "execution_count": 102,
   "metadata": {},
   "outputs": [
    {
     "data": {
      "text/html": [
       "<div>\n",
       "<style scoped>\n",
       "    .dataframe tbody tr th:only-of-type {\n",
       "        vertical-align: middle;\n",
       "    }\n",
       "\n",
       "    .dataframe tbody tr th {\n",
       "        vertical-align: top;\n",
       "    }\n",
       "\n",
       "    .dataframe thead th {\n",
       "        text-align: right;\n",
       "    }\n",
       "</style>\n",
       "<table border=\"1\" class=\"dataframe\">\n",
       "  <thead>\n",
       "    <tr style=\"text-align: right;\">\n",
       "      <th></th>\n",
       "      <th>secretaria</th>\n",
       "    </tr>\n",
       "  </thead>\n",
       "  <tbody>\n",
       "    <tr>\n",
       "      <th>423506</th>\n",
       "      <td>Secretaria de Finanças</td>\n",
       "    </tr>\n",
       "    <tr>\n",
       "      <th>423720</th>\n",
       "      <td>Secretaria de Saúde</td>\n",
       "    </tr>\n",
       "    <tr>\n",
       "      <th>424097</th>\n",
       "      <td>Secretaria de Obras</td>\n",
       "    </tr>\n",
       "    <tr>\n",
       "      <th>424845</th>\n",
       "      <td>Secretaria de Serviços Urbanos</td>\n",
       "    </tr>\n",
       "    <tr>\n",
       "      <th>426657</th>\n",
       "      <td>Gabinete do Prefeito</td>\n",
       "    </tr>\n",
       "    <tr>\n",
       "      <th>426895</th>\n",
       "      <td>Secretaria de Planejamento Urbano</td>\n",
       "    </tr>\n",
       "    <tr>\n",
       "      <th>428866</th>\n",
       "      <td>Externos</td>\n",
       "    </tr>\n",
       "    <tr>\n",
       "      <th>430988</th>\n",
       "      <td>Secretaria de Segurança Pública</td>\n",
       "    </tr>\n",
       "    <tr>\n",
       "      <th>436262</th>\n",
       "      <td>Gabinete da Secretaria de Educação</td>\n",
       "    </tr>\n",
       "    <tr>\n",
       "      <th>437030</th>\n",
       "      <td>Secretaria de Mobilidade Urbana</td>\n",
       "    </tr>\n",
       "    <tr>\n",
       "      <th>437932</th>\n",
       "      <td>Secretaria de Educação</td>\n",
       "    </tr>\n",
       "    <tr>\n",
       "      <th>451172</th>\n",
       "      <td>Secretaria de Habitação</td>\n",
       "    </tr>\n",
       "    <tr>\n",
       "      <th>451304</th>\n",
       "      <td>Gabinete da Secretaria de Meio Ambiente</td>\n",
       "    </tr>\n",
       "    <tr>\n",
       "      <th>454304</th>\n",
       "      <td>Secretaria de Proteção e Defesa Civil</td>\n",
       "    </tr>\n",
       "    <tr>\n",
       "      <th>508366</th>\n",
       "      <td>Secretaria de Meio Ambiente</td>\n",
       "    </tr>\n",
       "    <tr>\n",
       "      <th>533936</th>\n",
       "      <td>Gabinete da Secretaria de Finanças</td>\n",
       "    </tr>\n",
       "    <tr>\n",
       "      <th>546426</th>\n",
       "      <td>Gabinete da Secretaria de Mobilidade Urbana</td>\n",
       "    </tr>\n",
       "    <tr>\n",
       "      <th>549776</th>\n",
       "      <td>Secretaria de Administração e Modernização</td>\n",
       "    </tr>\n",
       "    <tr>\n",
       "      <th>574769</th>\n",
       "      <td>Gabinete da Secretaria de Administração e Mode...</td>\n",
       "    </tr>\n",
       "    <tr>\n",
       "      <th>576274</th>\n",
       "      <td>Controladoria Geral do Município</td>\n",
       "    </tr>\n",
       "    <tr>\n",
       "      <th>593644</th>\n",
       "      <td>Gabinete da Secretaria de Segurança Pública</td>\n",
       "    </tr>\n",
       "    <tr>\n",
       "      <th>601381</th>\n",
       "      <td>Gabinete da Secretaria de Saúde</td>\n",
       "    </tr>\n",
       "    <tr>\n",
       "      <th>611924</th>\n",
       "      <td>Gabinete da Secretaria de Assuntos Jurídicos</td>\n",
       "    </tr>\n",
       "    <tr>\n",
       "      <th>614312</th>\n",
       "      <td>Gabinete da Secretaria de Obras</td>\n",
       "    </tr>\n",
       "    <tr>\n",
       "      <th>624213</th>\n",
       "      <td>Secretaria de Segurança Alimentar e Nutricional</td>\n",
       "    </tr>\n",
       "    <tr>\n",
       "      <th>624700</th>\n",
       "      <td>Gabinete da Secretaria de Governo</td>\n",
       "    </tr>\n",
       "  </tbody>\n",
       "</table>\n",
       "</div>"
      ],
      "text/plain": [
       "                                               secretaria\n",
       "423506                             Secretaria de Finanças\n",
       "423720                                Secretaria de Saúde\n",
       "424097                                Secretaria de Obras\n",
       "424845                     Secretaria de Serviços Urbanos\n",
       "426657                               Gabinete do Prefeito\n",
       "426895                  Secretaria de Planejamento Urbano\n",
       "428866                                           Externos\n",
       "430988                    Secretaria de Segurança Pública\n",
       "436262                 Gabinete da Secretaria de Educação\n",
       "437030                    Secretaria de Mobilidade Urbana\n",
       "437932                             Secretaria de Educação\n",
       "451172                            Secretaria de Habitação\n",
       "451304            Gabinete da Secretaria de Meio Ambiente\n",
       "454304              Secretaria de Proteção e Defesa Civil\n",
       "508366                        Secretaria de Meio Ambiente\n",
       "533936                 Gabinete da Secretaria de Finanças\n",
       "546426        Gabinete da Secretaria de Mobilidade Urbana\n",
       "549776         Secretaria de Administração e Modernização\n",
       "574769  Gabinete da Secretaria de Administração e Mode...\n",
       "576274                   Controladoria Geral do Município\n",
       "593644        Gabinete da Secretaria de Segurança Pública\n",
       "601381                    Gabinete da Secretaria de Saúde\n",
       "611924       Gabinete da Secretaria de Assuntos Jurídicos\n",
       "614312                    Gabinete da Secretaria de Obras\n",
       "624213    Secretaria de Segurança Alimentar e Nutricional\n",
       "624700                  Gabinete da Secretaria de Governo"
      ]
     },
     "execution_count": 102,
     "metadata": {},
     "output_type": "execute_result"
    }
   ],
   "source": [
    "dfSecretarias"
   ]
  },
  {
   "cell_type": "code",
   "execution_count": 47,
   "metadata": {},
   "outputs": [
    {
     "data": {
      "image/png": "[encoded data removed]",
      "text/plain": [
       "<Figure size 640x480 with 1 Axes>"
      ]
     },
     "metadata": {},
     "output_type": "display_data"
    }
   ],
   "source": [
    "dfFuradoresGM['proventos'].hist()\n",
    "plt.title(f'Histograma de proventos')\n",
    "plt.xlabel('Proventos')\n",
    "plt.ylabel('Frequência')\n",
    "plt.grid(True)\n",
    "plt.show()"
   ]
  },
  {
   "cell_type": "code",
   "execution_count": 57,
   "metadata": {},
   "outputs": [
    {
     "data": {
      "image/png": "[encoded data removed]",
      "text/plain": [
       "<Figure size 640x480 with 1 Axes>"
      ]
     },
     "metadata": {},
     "output_type": "display_data"
    }
   ],
   "source": [
    "plt.scatter(\n",
    "    dfFuradoresGM['liquido'], \n",
    "    dfFuradoresGM['proventos'],\n",
    "    s=10,           \n",
    "    label='Dados'  \n",
    "    )\n",
    "\n",
    "#linha vertical Representando o salario do bruto do prefeito\n",
    "plt.axvline(x=18576.09, color='red', linestyle=':', label='Valor 18576.09')\n",
    "\n",
    "# linha horizontal Representando o salario do bruto do prefeito\n",
    "plt.axhline(y=18576.09, color='red', linestyle=':', label='Valor 18576.09')\n",
    "\n",
    "plt.title(f'Gráfico de Dispersão entre renda bruta e rendimento liquido')\n",
    "plt.xlabel('Salario Liquido')\n",
    "plt.ylabel('Salario Bruto')\n",
    "plt.grid(True)\n",
    "plt.show()"
   ]
  },
  {
   "cell_type": "code",
   "execution_count": 130,
   "metadata": {},
   "outputs": [
    {
     "data": {
      "image/png": "[encoded data removed]",
      "text/plain": [
       "<Figure size 640x480 with 1 Axes>"
      ]
     },
     "metadata": {},
     "output_type": "display_data"
    }
   ],
   "source": [
    "# Calcula a contagem de ocorrências de cada secretaria\n",
    "contagem_secretarias = dfFuradoresGM['secretaria'].value_counts()\n",
    "\n",
    "# Plota o gráfico de barras\n",
    "contagem_secretarias.plot(kind='bar')\n",
    "\n",
    "plt.title('Contagem de Secretarias')\n",
    "plt.xlabel('Secretaria')\n",
    "plt.ylabel('Contagem')\n",
    "plt.xticks(rotation=45, ha='right', fontsize=2)  # Rotaciona os rótulos do eixo x para melhor legibilidade\n",
    "plt.tight_layout()  # Ajusta o layout para evitar cortes de rótulos\n",
    "plt.show()"
   ]
  },
  {
   "cell_type": "code",
   "execution_count": 106,
   "metadata": {},
   "outputs": [
    {
     "data": {
      "text/plain": [
       "secretaria\n",
       "Secretaria de Finanças                                    523\n",
       "Secretaria de Saúde                                       403\n",
       "Secretaria de Planejamento Urbano                         116\n",
       "Secretaria de Segurança Pública                            72\n",
       "Secretaria de Obras                                        51\n",
       "Secretaria de Educação                                     51\n",
       "Gabinete do Prefeito                                       31\n",
       "Secretaria de Meio Ambiente                                24\n",
       "Secretaria de Serviços Urbanos                             13\n",
       "Externos                                                    8\n",
       "Gabinete da Secretaria de Educação                          7\n",
       "Secretaria de Habitação                                     6\n",
       "Gabinete da Secretaria de Administração e Modernização      3\n",
       "Secretaria de Administração e Modernização                  3\n",
       "Secretaria de Proteção e Defesa Civil                       3\n",
       "Secretaria de Mobilidade Urbana                             2\n",
       "Controladoria Geral do Município                            2\n",
       "Gabinete da Secretaria de Segurança Pública                 2\n",
       "Gabinete da Secretaria de Finanças                          1\n",
       "Gabinete da Secretaria de Mobilidade Urbana                 1\n",
       "Gabinete da Secretaria de Meio Ambiente                     1\n",
       "Gabinete da Secretaria de Saúde                             1\n",
       "Gabinete da Secretaria de Assuntos Jurídicos                1\n",
       "Gabinete da Secretaria de Obras                             1\n",
       "Secretaria de Segurança Alimentar e Nutricional             1\n",
       "Gabinete da Secretaria de Governo                           1\n",
       "Name: count, dtype: int64"
      ]
     },
     "execution_count": 106,
     "metadata": {},
     "output_type": "execute_result"
    }
   ],
   "source": [
    "contagem_secretarias"
   ]
  },
  {
   "cell_type": "code",
   "execution_count": 115,
   "metadata": {},
   "outputs": [
    {
     "data": {
      "image/png": "[encoded data removed]",
      "text/plain": [
       "<Figure size 640x480 with 1 Axes>"
      ]
     },
     "metadata": {},
     "output_type": "display_data"
    }
   ],
   "source": [
    "top_secretarias = contagem_secretarias.head(10)\n",
    "\n",
    "top_secretarias.plot(kind='bar')\n",
    "plt.title('As 10 Secretarias que mais apresentam super salarios')\n",
    "plt.xlabel('')\n",
    "plt.ylabel('Frequencia')\n",
    "plt.xticks(rotation=45, ha='right') \n",
    "plt.tight_layout()\n",
    "plt.show()"
   ]
  },
  {
   "cell_type": "code",
   "execution_count": 116,
   "metadata": {},
   "outputs": [
    {
     "data": {
      "image/png": "[encoded data removed]",
      "text/plain": [
       "<Figure size 640x480 with 1 Axes>"
      ]
     },
     "metadata": {},
     "output_type": "display_data"
    }
   ],
   "source": [
    "menosFrequentes = contagem_secretarias.tail(16)\n",
    "\n",
    "menosFrequentes.plot(kind='bar')\n",
    "plt.title('As secretarias restantes')\n",
    "plt.xlabel('')\n",
    "plt.ylabel('Frequencia')\n",
    "plt.xticks(rotation=45, ha='right') \n",
    "plt.tight_layout()\n",
    "plt.show()"
   ]
  },
  {
   "cell_type": "code",
   "execution_count": 128,
   "metadata": {},
   "outputs": [
    {
     "data": {
      "image/png": "[encoded data removed]",
      "text/plain": [
       "<Figure size 640x480 with 1 Axes>"
      ]
     },
     "metadata": {},
     "output_type": "display_data"
    }
   ],
   "source": [
    "# Calcula a diferença entre os proventos e o valor teto\n",
    "dfFuradoresGM['diferenca_teto'] = dfFuradoresGM['proventos'] - 18576.09\n",
    "\n",
    "# Cria um gráfico de dispersão\n",
    "plt.scatter(dfFuradoresGM.index, dfFuradoresGM['diferenca_teto'], marker='o', s=8)\n",
    "\n",
    "# Adiciona uma linha vertical vermelha no valor do teto\n",
    "plt.axhline(y=0, color='red', linestyle='--', label='Valor Teto')\n",
    "\n",
    "plt.title('Desvio dos valores dos proventos em relação ao valor teto em R$')\n",
    "plt.xlabel('Índice da Linha')\n",
    "plt.ylabel('Diferença em Relação ao Valor Teto em R$')\n",
    "plt.xticks([])\n",
    "plt.grid(True)\n",
    "plt.tight_layout()\n",
    "plt.show()"
   ]
  },
  {
   "cell_type": "markdown",
   "metadata": {},
   "source": [
    "## Exploratoria do salario dos prefeitos"
   ]
  },
  {
   "cell_type": "code",
   "execution_count": 132,
   "metadata": {},
   "outputs": [],
   "source": [
    "prefeito = df['cargo']=='PREFEITO'\n",
    "\n",
    "dfPrefDonisete = dfGestaoDonisete.loc[prefeito]\n",
    "dfPrefAtila = dfGestaoAtila.loc[prefeito]\n",
    "dfPrefMarcelo = dfGestaoMarcelo.loc[prefeito]"
   ]
  },
  {
   "cell_type": "code",
   "execution_count": 133,
   "metadata": {},
   "outputs": [
    {
     "data": {
      "text/html": [
       "<div>\n",
       "<style scoped>\n",
       "    .dataframe tbody tr th:only-of-type {\n",
       "        vertical-align: middle;\n",
       "    }\n",
       "\n",
       "    .dataframe tbody tr th {\n",
       "        vertical-align: top;\n",
       "    }\n",
       "\n",
       "    .dataframe thead th {\n",
       "        text-align: right;\n",
       "    }\n",
       "</style>\n",
       "<table border=\"1\" class=\"dataframe\">\n",
       "  <thead>\n",
       "    <tr style=\"text-align: right;\">\n",
       "      <th></th>\n",
       "      <th>cadastro</th>\n",
       "      <th>nome</th>\n",
       "      <th>secretaria</th>\n",
       "      <th>proventos</th>\n",
       "      <th>liquido</th>\n",
       "      <th>situacao</th>\n",
       "      <th>vinculo</th>\n",
       "      <th>cargo</th>\n",
       "      <th>localabonocovid</th>\n",
       "      <th>abonocovid</th>\n",
       "      <th>horaextracovid</th>\n",
       "      <th>mes</th>\n",
       "      <th>ano</th>\n",
       "    </tr>\n",
       "  </thead>\n",
       "  <tbody>\n",
       "    <tr>\n",
       "      <th>1297</th>\n",
       "      <td>29999</td>\n",
       "      <td>DONISETE BRAGA</td>\n",
       "      <td>Gabinete do Prefeito</td>\n",
       "      <td>18576.09</td>\n",
       "      <td>13971.30</td>\n",
       "      <td>Outra</td>\n",
       "      <td>CARGO ELETIVO (PREF)</td>\n",
       "      <td>PREFEITO</td>\n",
       "      <td>N</td>\n",
       "      <td>0</td>\n",
       "      <td>0.0</td>\n",
       "      <td>1</td>\n",
       "      <td>2015</td>\n",
       "    </tr>\n",
       "    <tr>\n",
       "      <th>6849</th>\n",
       "      <td>29999</td>\n",
       "      <td>DONISETE BRAGA</td>\n",
       "      <td>Gabinete do Prefeito</td>\n",
       "      <td>18576.09</td>\n",
       "      <td>13971.30</td>\n",
       "      <td>Outra</td>\n",
       "      <td>CARGO ELETIVO (PREF)</td>\n",
       "      <td>PREFEITO</td>\n",
       "      <td>N</td>\n",
       "      <td>0</td>\n",
       "      <td>0.0</td>\n",
       "      <td>2</td>\n",
       "      <td>2015</td>\n",
       "    </tr>\n",
       "    <tr>\n",
       "      <th>12254</th>\n",
       "      <td>29999</td>\n",
       "      <td>DONISETE BRAGA</td>\n",
       "      <td>Gabinete do Prefeito</td>\n",
       "      <td>18576.09</td>\n",
       "      <td>13971.30</td>\n",
       "      <td>Outra</td>\n",
       "      <td>CARGO ELETIVO (PREF)</td>\n",
       "      <td>PREFEITO</td>\n",
       "      <td>N</td>\n",
       "      <td>0</td>\n",
       "      <td>0.0</td>\n",
       "      <td>3</td>\n",
       "      <td>2015</td>\n",
       "    </tr>\n",
       "    <tr>\n",
       "      <th>17740</th>\n",
       "      <td>29999</td>\n",
       "      <td>DONISETE BRAGA</td>\n",
       "      <td>Gabinete do Prefeito</td>\n",
       "      <td>18576.09</td>\n",
       "      <td>14017.23</td>\n",
       "      <td>Outra</td>\n",
       "      <td>CARGO ELETIVO (PREF)</td>\n",
       "      <td>PREFEITO</td>\n",
       "      <td>N</td>\n",
       "      <td>0</td>\n",
       "      <td>0.0</td>\n",
       "      <td>4</td>\n",
       "      <td>2015</td>\n",
       "    </tr>\n",
       "    <tr>\n",
       "      <th>23320</th>\n",
       "      <td>29999</td>\n",
       "      <td>DONISETE BRAGA</td>\n",
       "      <td>Gabinete do Prefeito</td>\n",
       "      <td>18576.09</td>\n",
       "      <td>14017.23</td>\n",
       "      <td>Outra</td>\n",
       "      <td>CARGO ELETIVO (PREF)</td>\n",
       "      <td>PREFEITO</td>\n",
       "      <td>N</td>\n",
       "      <td>0</td>\n",
       "      <td>0.0</td>\n",
       "      <td>5</td>\n",
       "      <td>2015</td>\n",
       "    </tr>\n",
       "  </tbody>\n",
       "</table>\n",
       "</div>"
      ],
      "text/plain": [
       "       cadastro            nome            secretaria  proventos   liquido   \n",
       "1297      29999  DONISETE BRAGA  Gabinete do Prefeito   18576.09  13971.30  \\\n",
       "6849      29999  DONISETE BRAGA  Gabinete do Prefeito   18576.09  13971.30   \n",
       "12254     29999  DONISETE BRAGA  Gabinete do Prefeito   18576.09  13971.30   \n",
       "17740     29999  DONISETE BRAGA  Gabinete do Prefeito   18576.09  14017.23   \n",
       "23320     29999  DONISETE BRAGA  Gabinete do Prefeito   18576.09  14017.23   \n",
       "\n",
       "      situacao               vinculo     cargo localabonocovid  abonocovid   \n",
       "1297     Outra  CARGO ELETIVO (PREF)  PREFEITO               N           0  \\\n",
       "6849     Outra  CARGO ELETIVO (PREF)  PREFEITO               N           0   \n",
       "12254    Outra  CARGO ELETIVO (PREF)  PREFEITO               N           0   \n",
       "17740    Outra  CARGO ELETIVO (PREF)  PREFEITO               N           0   \n",
       "23320    Outra  CARGO ELETIVO (PREF)  PREFEITO               N           0   \n",
       "\n",
       "       horaextracovid mes   ano  \n",
       "1297              0.0   1  2015  \n",
       "6849              0.0   2  2015  \n",
       "12254             0.0   3  2015  \n",
       "17740             0.0   4  2015  \n",
       "23320             0.0   5  2015  "
      ]
     },
     "execution_count": 133,
     "metadata": {},
     "output_type": "execute_result"
    }
   ],
   "source": [
    "dfPrefDonisete.head(5)"
   ]
  },
  {
   "cell_type": "code",
   "execution_count": 19,
   "metadata": {},
   "outputs": [
    {
     "name": "stdout",
     "output_type": "stream",
     "text": [
      "Média dos Proventos Prefeito: 19772.27, Mediana: 18576.09, Moda: 18576.09\n"
     ]
    }
   ],
   "source": [
    "mediaProventoPrefeito = dfPrefAtila['proventos'].mean()\n",
    "medianaProventoPrefeito = dfPrefAtila['proventos'].median()\n",
    "modaProventoPrefeito = dfPrefAtila['proventos'].mode()\n",
    "\n",
    "print(f\"Média dos Proventos Prefeito: {mediaProventoPrefeito:.2f}, Mediana: {medianaProventoPrefeito:.2f}, Moda: {modaProventoPrefeito.iloc[0]}\")\n"
   ]
  },
  {
   "cell_type": "code",
   "execution_count": 20,
   "metadata": {},
   "outputs": [
    {
     "name": "stdout",
     "output_type": "stream",
     "text": [
      "Variação Percentual dos Proventos do Prefeito: 723.08%\n"
     ]
    }
   ],
   "source": [
    "proventos_max = dfPrefAtila['proventos'].max()\n",
    "proventos_min = dfPrefAtila['proventos'].min()\n",
    "\n",
    "variacao_percentual = ((proventos_max - proventos_min) / proventos_min) * 100\n",
    "\n",
    "print(f\"Variação Percentual dos Proventos do Prefeito: {variacao_percentual:.2f}%\")\n"
   ]
  },
  {
   "cell_type": "code",
   "execution_count": 21,
   "metadata": {},
   "outputs": [
    {
     "name": "stdout",
     "output_type": "stream",
     "text": [
      "Variação dos Proventos do Prefeito (Máximo - Mínimo): 58205.08\n"
     ]
    }
   ],
   "source": [
    "proventos_max = dfPrefAtila['proventos'].max()\n",
    "proventos_min = dfPrefAtila['proventos'].min()\n",
    "\n",
    "variacao_proventos = proventos_max - proventos_min\n",
    "\n",
    "print(f\"Variação dos Proventos do Prefeito (Máximo - Mínimo): {variacao_proventos:.2f}\")\n"
   ]
  },
  {
   "cell_type": "code",
   "execution_count": 27,
   "metadata": {},
   "outputs": [
    {
     "data": {
      "text/plain": [
       "66254.72"
      ]
     },
     "execution_count": 27,
     "metadata": {},
     "output_type": "execute_result"
    }
   ],
   "source": [
    "proventos_min = dfPrefAtila['proventos'].max()\n",
    "proventos_min"
   ]
  },
  {
   "cell_type": "code",
   "execution_count": 28,
   "metadata": {},
   "outputs": [
    {
     "data": {
      "text/html": [
       "<div>\n",
       "<style scoped>\n",
       "    .dataframe tbody tr th:only-of-type {\n",
       "        vertical-align: middle;\n",
       "    }\n",
       "\n",
       "    .dataframe tbody tr th {\n",
       "        vertical-align: top;\n",
       "    }\n",
       "\n",
       "    .dataframe thead th {\n",
       "        text-align: right;\n",
       "    }\n",
       "</style>\n",
       "<table border=\"1\" class=\"dataframe\">\n",
       "  <thead>\n",
       "    <tr style=\"text-align: right;\">\n",
       "      <th></th>\n",
       "      <th>cadastro</th>\n",
       "      <th>nome</th>\n",
       "      <th>secretaria</th>\n",
       "      <th>proventos</th>\n",
       "      <th>liquido</th>\n",
       "      <th>situacao</th>\n",
       "      <th>vinculo</th>\n",
       "      <th>cargo</th>\n",
       "      <th>localabonocovid</th>\n",
       "      <th>abonocovid</th>\n",
       "      <th>horaextracovid</th>\n",
       "      <th>mes</th>\n",
       "      <th>ano</th>\n",
       "    </tr>\n",
       "  </thead>\n",
       "  <tbody>\n",
       "    <tr>\n",
       "      <th>250081</th>\n",
       "      <td>34940</td>\n",
       "      <td>ATILA JACOMUSSI</td>\n",
       "      <td>Gabinete do Prefeito</td>\n",
       "      <td>66254.72</td>\n",
       "      <td>827.29</td>\n",
       "      <td>Outra</td>\n",
       "      <td>CARGO ELETIVO (PREF)</td>\n",
       "      <td>PREFEITO</td>\n",
       "      <td>N</td>\n",
       "      <td>0</td>\n",
       "      <td>0.0</td>\n",
       "      <td>9</td>\n",
       "      <td>2018</td>\n",
       "    </tr>\n",
       "  </tbody>\n",
       "</table>\n",
       "</div>"
      ],
      "text/plain": [
       "        cadastro             nome            secretaria  proventos  liquido  \\\n",
       "250081     34940  ATILA JACOMUSSI  Gabinete do Prefeito   66254.72   827.29   \n",
       "\n",
       "       situacao               vinculo     cargo localabonocovid  abonocovid  \\\n",
       "250081    Outra  CARGO ELETIVO (PREF)  PREFEITO               N           0   \n",
       "\n",
       "        horaextracovid mes   ano  \n",
       "250081             0.0   9  2018  "
      ]
     },
     "execution_count": 28,
     "metadata": {},
     "output_type": "execute_result"
    }
   ],
   "source": [
    "maximorecebido = dfGestaoAtila['proventos'] == 66254.72\n",
    "dfPrefAtila.loc[maximorecebido]"
   ]
  },
  {
   "cell_type": "markdown",
   "metadata": {},
   "source": [
    "### Analise da atual gestão"
   ]
  },
  {
   "cell_type": "code",
   "execution_count": null,
   "metadata": {},
   "outputs": [],
   "source": [
    "tetoMunicipal = df[prefeito].iloc[0]['proventos']\n",
    "liquidoPrefeito = df[prefeito].iloc[0]['liquido']\n",
    "\n",
    "filtroProventos = df['proventos'] > tetoMunicipal\n",
    "filtroLiquido = df['liquido'] > tetoMunicipal"
   ]
  },
  {
   "cell_type": "code",
   "execution_count": null,
   "metadata": {},
   "outputs": [],
   "source": [
    "furadoresTeto = df[filtroProventos]"
   ]
  },
  {
   "cell_type": "code",
   "execution_count": null,
   "metadata": {},
   "outputs": [],
   "source": [
    "procuradoriaGeral = furadoresTeto[furadoresTeto['cargo'] == 'PROCURADOR']\n",
    "furadoresTeto = furadoresTeto.drop(procuradoriaGeral.index)"
   ]
  },
  {
   "cell_type": "code",
   "execution_count": null,
   "metadata": {},
   "outputs": [],
   "source": [
    "furadoresTeto = furadoresTeto[['nome','proventos','liquido','secretaria','cadastro','cargo']]\n",
    "furadoresTeto.columns = \"nome servidor\", \"salario bruto\", \"salario liquido\", \"secretaria\", \"cadastro\", \"cargo\""
   ]
  },
  {
   "cell_type": "markdown",
   "metadata": {},
   "source": [
    "## Solicitação de um mes unico"
   ]
  },
  {
   "cell_type": "code",
   "execution_count": 2,
   "metadata": {},
   "outputs": [],
   "source": [
    "mesReferencia = '7' #['1','2','3','4','5','6','7','8','9','10','11','12']\n",
    "anoReferencia = '2023' #['2015', '2016', '2017', '2018', '2019', '2020', '2021', '2022', '2023']\n"
   ]
  },
  {
   "cell_type": "code",
   "execution_count": 3,
   "metadata": {},
   "outputs": [],
   "source": [
    "requisicao = requests.get('https://sistemas.maua.sp.gov.br/Portaldatransparencia/API/Servidores/' + mesReferencia + '/' + anoReferencia)\n",
    "\n",
    "servidores = requisicao.json()\n",
    "df = pd.DataFrame(servidores)"
   ]
  },
  {
   "cell_type": "code",
   "execution_count": 141,
   "metadata": {},
   "outputs": [],
   "source": [
    "#for ano in anoReferencia:\n",
    "#    for mes in mesReferencia:\n",
    "#        requisicao = requests.get('https://sistemas.maua.sp.gov.br/Portaldatransparencia/API/Servidores/' + mes + '/' + ano)\n",
    "\n",
    "#        servidores = requisicao.json()\n",
    "#        df = pd.DataFrame(servidores)\n",
    "        \n",
    "#        df.to_csv('A:/code/analiseOrcamentoMaua/servidoresPrefMaua/dados' + mes + '_' + ano + '.csv')\n",
    "        "
   ]
  },
  {
   "cell_type": "code",
   "execution_count": 4,
   "metadata": {},
   "outputs": [
    {
     "data": {
      "text/html": [
       "<div>\n",
       "<style scoped>\n",
       "    .dataframe tbody tr th:only-of-type {\n",
       "        vertical-align: middle;\n",
       "    }\n",
       "\n",
       "    .dataframe tbody tr th {\n",
       "        vertical-align: top;\n",
       "    }\n",
       "\n",
       "    .dataframe thead th {\n",
       "        text-align: right;\n",
       "    }\n",
       "</style>\n",
       "<table border=\"1\" class=\"dataframe\">\n",
       "  <thead>\n",
       "    <tr style=\"text-align: right;\">\n",
       "      <th></th>\n",
       "      <th>cadastro</th>\n",
       "      <th>nome</th>\n",
       "      <th>secretaria</th>\n",
       "      <th>proventos</th>\n",
       "      <th>liquido</th>\n",
       "      <th>situacao</th>\n",
       "      <th>vinculo</th>\n",
       "      <th>cargo</th>\n",
       "      <th>localabonocovid</th>\n",
       "      <th>abonocovid</th>\n",
       "      <th>horaextracovid</th>\n",
       "    </tr>\n",
       "  </thead>\n",
       "  <tbody>\n",
       "    <tr>\n",
       "      <th>count</th>\n",
       "      <td>7399</td>\n",
       "      <td>7399</td>\n",
       "      <td>7399</td>\n",
       "      <td>7399</td>\n",
       "      <td>7399</td>\n",
       "      <td>7399</td>\n",
       "      <td>7399</td>\n",
       "      <td>7399</td>\n",
       "      <td>7399</td>\n",
       "      <td>7399</td>\n",
       "      <td>7399</td>\n",
       "    </tr>\n",
       "    <tr>\n",
       "      <th>unique</th>\n",
       "      <td>7399</td>\n",
       "      <td>7325</td>\n",
       "      <td>49</td>\n",
       "      <td>5021</td>\n",
       "      <td>6419</td>\n",
       "      <td>4</td>\n",
       "      <td>19</td>\n",
       "      <td>285</td>\n",
       "      <td>2</td>\n",
       "      <td>21</td>\n",
       "      <td>61</td>\n",
       "    </tr>\n",
       "    <tr>\n",
       "      <th>top</th>\n",
       "      <td>41146</td>\n",
       "      <td>MARIA APARECIDA DA SILVA</td>\n",
       "      <td>Secretaria de Educação</td>\n",
       "      <td>2103.32</td>\n",
       "      <td>2063.72</td>\n",
       "      <td>Ativo</td>\n",
       "      <td>ESTAT EFETIVO</td>\n",
       "      <td>PEB I</td>\n",
       "      <td>N</td>\n",
       "      <td>0</td>\n",
       "      <td>0</td>\n",
       "    </tr>\n",
       "    <tr>\n",
       "      <th>freq</th>\n",
       "      <td>1</td>\n",
       "      <td>4</td>\n",
       "      <td>3080</td>\n",
       "      <td>246</td>\n",
       "      <td>231</td>\n",
       "      <td>7248</td>\n",
       "      <td>5049</td>\n",
       "      <td>1233</td>\n",
       "      <td>5794</td>\n",
       "      <td>5822</td>\n",
       "      <td>7333</td>\n",
       "    </tr>\n",
       "  </tbody>\n",
       "</table>\n",
       "</div>"
      ],
      "text/plain": [
       "       cadastro                      nome              secretaria proventos   \n",
       "count      7399                      7399                    7399      7399  \\\n",
       "unique     7399                      7325                      49      5021   \n",
       "top       41146  MARIA APARECIDA DA SILVA  Secretaria de Educação   2103.32   \n",
       "freq          1                         4                    3080       246   \n",
       "\n",
       "        liquido situacao        vinculo  cargo localabonocovid abonocovid   \n",
       "count      7399     7399           7399   7399            7399       7399  \\\n",
       "unique     6419        4             19    285               2         21   \n",
       "top     2063.72    Ativo  ESTAT EFETIVO  PEB I               N          0   \n",
       "freq        231     7248           5049   1233            5794       5822   \n",
       "\n",
       "       horaextracovid  \n",
       "count            7399  \n",
       "unique             61  \n",
       "top                 0  \n",
       "freq             7333  "
      ]
     },
     "execution_count": 4,
     "metadata": {},
     "output_type": "execute_result"
    }
   ],
   "source": [
    "df.describe()"
   ]
  },
  {
   "cell_type": "code",
   "execution_count": 5,
   "metadata": {},
   "outputs": [
    {
     "data": {
      "text/plain": [
       "cadastro           object\n",
       "nome               object\n",
       "secretaria         object\n",
       "proventos          object\n",
       "liquido            object\n",
       "situacao           object\n",
       "vinculo            object\n",
       "cargo              object\n",
       "localabonocovid    object\n",
       "abonocovid         object\n",
       "horaextracovid     object\n",
       "dtype: object"
      ]
     },
     "execution_count": 5,
     "metadata": {},
     "output_type": "execute_result"
    }
   ],
   "source": [
    "df.dtypes"
   ]
  },
  {
   "cell_type": "code",
   "execution_count": 6,
   "metadata": {},
   "outputs": [],
   "source": [
    "df['liquido'] = df['liquido'].astype(float)\n",
    "df['proventos'] = df['proventos'].astype(float)\n",
    "df['cadastro'] = df['cadastro'].astype(int)\n",
    "df['abonocovid'] = df['abonocovid'].astype(int)\n",
    "df['horaextracovid'] = df['horaextracovid'].astype(float)"
   ]
  },
  {
   "cell_type": "code",
   "execution_count": 7,
   "metadata": {},
   "outputs": [
    {
     "data": {
      "text/plain": [
       "cadastro             int32\n",
       "nome                object\n",
       "secretaria          object\n",
       "proventos          float64\n",
       "liquido            float64\n",
       "situacao            object\n",
       "vinculo             object\n",
       "cargo               object\n",
       "localabonocovid     object\n",
       "abonocovid           int32\n",
       "horaextracovid     float64\n",
       "dtype: object"
      ]
     },
     "execution_count": 7,
     "metadata": {},
     "output_type": "execute_result"
    }
   ],
   "source": [
    "df.dtypes"
   ]
  },
  {
   "cell_type": "code",
   "execution_count": 8,
   "metadata": {},
   "outputs": [],
   "source": [
    "prefeito = df['cargo']=='PREFEITO'"
   ]
  },
  {
   "cell_type": "code",
   "execution_count": 9,
   "metadata": {},
   "outputs": [
    {
     "data": {
      "text/html": [
       "<div>\n",
       "<style scoped>\n",
       "    .dataframe tbody tr th:only-of-type {\n",
       "        vertical-align: middle;\n",
       "    }\n",
       "\n",
       "    .dataframe tbody tr th {\n",
       "        vertical-align: top;\n",
       "    }\n",
       "\n",
       "    .dataframe thead th {\n",
       "        text-align: right;\n",
       "    }\n",
       "</style>\n",
       "<table border=\"1\" class=\"dataframe\">\n",
       "  <thead>\n",
       "    <tr style=\"text-align: right;\">\n",
       "      <th></th>\n",
       "      <th>cadastro</th>\n",
       "      <th>nome</th>\n",
       "      <th>secretaria</th>\n",
       "      <th>proventos</th>\n",
       "      <th>liquido</th>\n",
       "      <th>situacao</th>\n",
       "      <th>vinculo</th>\n",
       "      <th>cargo</th>\n",
       "      <th>localabonocovid</th>\n",
       "      <th>abonocovid</th>\n",
       "      <th>horaextracovid</th>\n",
       "    </tr>\n",
       "  </thead>\n",
       "  <tbody>\n",
       "    <tr>\n",
       "      <th>4298</th>\n",
       "      <td>38797</td>\n",
       "      <td>MARCELO OLIVEIRA</td>\n",
       "      <td>Gabinete do Prefeito</td>\n",
       "      <td>18576.09</td>\n",
       "      <td>13716.84</td>\n",
       "      <td>Ativo</td>\n",
       "      <td>CARGO ELETIVO (PREF)</td>\n",
       "      <td>PREFEITO</td>\n",
       "      <td>N</td>\n",
       "      <td>0</td>\n",
       "      <td>0.0</td>\n",
       "    </tr>\n",
       "  </tbody>\n",
       "</table>\n",
       "</div>"
      ],
      "text/plain": [
       "      cadastro              nome            secretaria  proventos   liquido   \n",
       "4298     38797  MARCELO OLIVEIRA  Gabinete do Prefeito   18576.09  13716.84  \\\n",
       "\n",
       "     situacao               vinculo     cargo localabonocovid  abonocovid   \n",
       "4298    Ativo  CARGO ELETIVO (PREF)  PREFEITO               N           0  \\\n",
       "\n",
       "      horaextracovid  \n",
       "4298             0.0  "
      ]
     },
     "execution_count": 9,
     "metadata": {},
     "output_type": "execute_result"
    }
   ],
   "source": [
    "df[prefeito]"
   ]
  },
  {
   "cell_type": "code",
   "execution_count": 10,
   "metadata": {},
   "outputs": [],
   "source": [
    "tetoMunicipal = df[prefeito].iloc[0]['proventos']\n",
    "liquidoPrefeito = df[prefeito].iloc[0]['liquido']\n",
    "\n",
    "filtroProventos = df['proventos'] > tetoMunicipal\n",
    "filtroLiquido = df['liquido'] > tetoMunicipal"
   ]
  },
  {
   "cell_type": "code",
   "execution_count": 11,
   "metadata": {},
   "outputs": [
    {
     "data": {
      "text/html": [
       "<div>\n",
       "<style scoped>\n",
       "    .dataframe tbody tr th:only-of-type {\n",
       "        vertical-align: middle;\n",
       "    }\n",
       "\n",
       "    .dataframe tbody tr th {\n",
       "        vertical-align: top;\n",
       "    }\n",
       "\n",
       "    .dataframe thead th {\n",
       "        text-align: right;\n",
       "    }\n",
       "</style>\n",
       "<table border=\"1\" class=\"dataframe\">\n",
       "  <thead>\n",
       "    <tr style=\"text-align: right;\">\n",
       "      <th></th>\n",
       "      <th>cadastro</th>\n",
       "      <th>nome</th>\n",
       "      <th>secretaria</th>\n",
       "      <th>proventos</th>\n",
       "      <th>liquido</th>\n",
       "      <th>situacao</th>\n",
       "      <th>vinculo</th>\n",
       "      <th>cargo</th>\n",
       "      <th>localabonocovid</th>\n",
       "      <th>abonocovid</th>\n",
       "      <th>horaextracovid</th>\n",
       "    </tr>\n",
       "  </thead>\n",
       "  <tbody>\n",
       "    <tr>\n",
       "      <th>290</th>\n",
       "      <td>22727</td>\n",
       "      <td>ALEXANDRE SILVA</td>\n",
       "      <td>Secretaria de Finanças</td>\n",
       "      <td>31932.14</td>\n",
       "      <td>20792.77</td>\n",
       "      <td>Ativo</td>\n",
       "      <td>ESTAT EFETIVO</td>\n",
       "      <td>AUD.FISC.TRIB. MUNICIPAIS II</td>\n",
       "      <td>N</td>\n",
       "      <td>0</td>\n",
       "      <td>0.0</td>\n",
       "    </tr>\n",
       "    <tr>\n",
       "      <th>570</th>\n",
       "      <td>21246</td>\n",
       "      <td>ANDRE DE ARIMATEIA DE SOUZA LINO</td>\n",
       "      <td>Secretaria de Saúde</td>\n",
       "      <td>23061.77</td>\n",
       "      <td>14851.27</td>\n",
       "      <td>Ativo</td>\n",
       "      <td>ESTAT EFETIVO</td>\n",
       "      <td>MEDICO-CIRURGIAO GERAL 40H</td>\n",
       "      <td>S</td>\n",
       "      <td>300</td>\n",
       "      <td>0.0</td>\n",
       "    </tr>\n",
       "    <tr>\n",
       "      <th>590</th>\n",
       "      <td>18409</td>\n",
       "      <td>ANDREA CHAVES FERREIRA SANTO AZZOLINI</td>\n",
       "      <td>Secretaria de Saúde</td>\n",
       "      <td>25615.00</td>\n",
       "      <td>18716.83</td>\n",
       "      <td>Ativo</td>\n",
       "      <td>ESTAT EFETIVO</td>\n",
       "      <td>MEDICO-GINECOLOGISTA 40H</td>\n",
       "      <td>S</td>\n",
       "      <td>300</td>\n",
       "      <td>0.0</td>\n",
       "    </tr>\n",
       "    <tr>\n",
       "      <th>688</th>\n",
       "      <td>12745</td>\n",
       "      <td>ANGELA MARIA BARADEL</td>\n",
       "      <td>Secretaria de Finanças</td>\n",
       "      <td>23688.94</td>\n",
       "      <td>15711.33</td>\n",
       "      <td>Ativo</td>\n",
       "      <td>ESTAT EFETIVO</td>\n",
       "      <td>AUDITOR FISC. TRIB. MUNICIPAIS</td>\n",
       "      <td>N</td>\n",
       "      <td>0</td>\n",
       "      <td>0.0</td>\n",
       "    </tr>\n",
       "    <tr>\n",
       "      <th>769</th>\n",
       "      <td>2943</td>\n",
       "      <td>ANTONIO MARIA CLARET SANT ANA</td>\n",
       "      <td>Secretaria de Meio Ambiente</td>\n",
       "      <td>19001.00</td>\n",
       "      <td>13419.10</td>\n",
       "      <td>Ativo</td>\n",
       "      <td>CLT Ñ ESTAVEL</td>\n",
       "      <td>ENGENHEIRO AGRONOMO</td>\n",
       "      <td>N</td>\n",
       "      <td>0</td>\n",
       "      <td>0.0</td>\n",
       "    </tr>\n",
       "  </tbody>\n",
       "</table>\n",
       "</div>"
      ],
      "text/plain": [
       "     cadastro                                   nome   \n",
       "290     22727                        ALEXANDRE SILVA  \\\n",
       "570     21246       ANDRE DE ARIMATEIA DE SOUZA LINO   \n",
       "590     18409  ANDREA CHAVES FERREIRA SANTO AZZOLINI   \n",
       "688     12745                   ANGELA MARIA BARADEL   \n",
       "769      2943          ANTONIO MARIA CLARET SANT ANA   \n",
       "\n",
       "                      secretaria  proventos   liquido situacao        vinculo   \n",
       "290       Secretaria de Finanças   31932.14  20792.77    Ativo  ESTAT EFETIVO  \\\n",
       "570          Secretaria de Saúde   23061.77  14851.27    Ativo  ESTAT EFETIVO   \n",
       "590          Secretaria de Saúde   25615.00  18716.83    Ativo  ESTAT EFETIVO   \n",
       "688       Secretaria de Finanças   23688.94  15711.33    Ativo  ESTAT EFETIVO   \n",
       "769  Secretaria de Meio Ambiente   19001.00  13419.10    Ativo  CLT Ñ ESTAVEL   \n",
       "\n",
       "                              cargo localabonocovid  abonocovid   \n",
       "290    AUD.FISC.TRIB. MUNICIPAIS II               N           0  \\\n",
       "570      MEDICO-CIRURGIAO GERAL 40H               S         300   \n",
       "590        MEDICO-GINECOLOGISTA 40H               S         300   \n",
       "688  AUDITOR FISC. TRIB. MUNICIPAIS               N           0   \n",
       "769             ENGENHEIRO AGRONOMO               N           0   \n",
       "\n",
       "     horaextracovid  \n",
       "290             0.0  \n",
       "570             0.0  \n",
       "590             0.0  \n",
       "688             0.0  \n",
       "769             0.0  "
      ]
     },
     "execution_count": 11,
     "metadata": {},
     "output_type": "execute_result"
    }
   ],
   "source": [
    "df[filtroProventos].head()"
   ]
  },
  {
   "cell_type": "code",
   "execution_count": 12,
   "metadata": {},
   "outputs": [],
   "source": [
    "furadoresTeto = df[filtroProventos]"
   ]
  },
  {
   "cell_type": "code",
   "execution_count": 13,
   "metadata": {},
   "outputs": [
    {
     "data": {
      "text/plain": [
       "cadastro           74\n",
       "nome               74\n",
       "secretaria         74\n",
       "proventos          74\n",
       "liquido            74\n",
       "situacao           74\n",
       "vinculo            74\n",
       "cargo              74\n",
       "localabonocovid    74\n",
       "abonocovid         74\n",
       "horaextracovid     74\n",
       "dtype: int64"
      ]
     },
     "execution_count": 13,
     "metadata": {},
     "output_type": "execute_result"
    }
   ],
   "source": [
    "furadoresTeto.count()"
   ]
  },
  {
   "cell_type": "code",
   "execution_count": 14,
   "metadata": {},
   "outputs": [
    {
     "data": {
      "text/html": [
       "<div>\n",
       "<style scoped>\n",
       "    .dataframe tbody tr th:only-of-type {\n",
       "        vertical-align: middle;\n",
       "    }\n",
       "\n",
       "    .dataframe tbody tr th {\n",
       "        vertical-align: top;\n",
       "    }\n",
       "\n",
       "    .dataframe thead th {\n",
       "        text-align: right;\n",
       "    }\n",
       "</style>\n",
       "<table border=\"1\" class=\"dataframe\">\n",
       "  <thead>\n",
       "    <tr style=\"text-align: right;\">\n",
       "      <th></th>\n",
       "      <th>cadastro</th>\n",
       "      <th>proventos</th>\n",
       "      <th>liquido</th>\n",
       "      <th>abonocovid</th>\n",
       "      <th>horaextracovid</th>\n",
       "    </tr>\n",
       "  </thead>\n",
       "  <tbody>\n",
       "    <tr>\n",
       "      <th>count</th>\n",
       "      <td>74.000000</td>\n",
       "      <td>74.000000</td>\n",
       "      <td>74.000000</td>\n",
       "      <td>74.000000</td>\n",
       "      <td>74.0</td>\n",
       "    </tr>\n",
       "    <tr>\n",
       "      <th>mean</th>\n",
       "      <td>19823.486486</td>\n",
       "      <td>23715.790405</td>\n",
       "      <td>15826.860270</td>\n",
       "      <td>60.810811</td>\n",
       "      <td>0.0</td>\n",
       "    </tr>\n",
       "    <tr>\n",
       "      <th>std</th>\n",
       "      <td>10349.539152</td>\n",
       "      <td>4766.360575</td>\n",
       "      <td>3250.383718</td>\n",
       "      <td>121.427094</td>\n",
       "      <td>0.0</td>\n",
       "    </tr>\n",
       "    <tr>\n",
       "      <th>min</th>\n",
       "      <td>2118.000000</td>\n",
       "      <td>18652.080000</td>\n",
       "      <td>9419.890000</td>\n",
       "      <td>0.000000</td>\n",
       "      <td>0.0</td>\n",
       "    </tr>\n",
       "    <tr>\n",
       "      <th>25%</th>\n",
       "      <td>12719.250000</td>\n",
       "      <td>19942.597500</td>\n",
       "      <td>13716.840000</td>\n",
       "      <td>0.000000</td>\n",
       "      <td>0.0</td>\n",
       "    </tr>\n",
       "    <tr>\n",
       "      <th>50%</th>\n",
       "      <td>17908.000000</td>\n",
       "      <td>22750.565000</td>\n",
       "      <td>15165.770000</td>\n",
       "      <td>0.000000</td>\n",
       "      <td>0.0</td>\n",
       "    </tr>\n",
       "    <tr>\n",
       "      <th>75%</th>\n",
       "      <td>26586.250000</td>\n",
       "      <td>25673.912500</td>\n",
       "      <td>17600.387500</td>\n",
       "      <td>0.000000</td>\n",
       "      <td>0.0</td>\n",
       "    </tr>\n",
       "    <tr>\n",
       "      <th>max</th>\n",
       "      <td>41764.000000</td>\n",
       "      <td>42732.730000</td>\n",
       "      <td>24486.930000</td>\n",
       "      <td>300.000000</td>\n",
       "      <td>0.0</td>\n",
       "    </tr>\n",
       "  </tbody>\n",
       "</table>\n",
       "</div>"
      ],
      "text/plain": [
       "           cadastro     proventos       liquido  abonocovid  horaextracovid\n",
       "count     74.000000     74.000000     74.000000   74.000000            74.0\n",
       "mean   19823.486486  23715.790405  15826.860270   60.810811             0.0\n",
       "std    10349.539152   4766.360575   3250.383718  121.427094             0.0\n",
       "min     2118.000000  18652.080000   9419.890000    0.000000             0.0\n",
       "25%    12719.250000  19942.597500  13716.840000    0.000000             0.0\n",
       "50%    17908.000000  22750.565000  15165.770000    0.000000             0.0\n",
       "75%    26586.250000  25673.912500  17600.387500    0.000000             0.0\n",
       "max    41764.000000  42732.730000  24486.930000  300.000000             0.0"
      ]
     },
     "execution_count": 14,
     "metadata": {},
     "output_type": "execute_result"
    }
   ],
   "source": [
    "furadoresTeto.describe()"
   ]
  },
  {
   "cell_type": "code",
   "execution_count": 15,
   "metadata": {},
   "outputs": [],
   "source": [
    "procuradoriaGeral = furadoresTeto[furadoresTeto['cargo'] == 'PROCURADOR']"
   ]
  },
  {
   "cell_type": "code",
   "execution_count": 16,
   "metadata": {},
   "outputs": [],
   "source": [
    "furadoresTeto = furadoresTeto.drop(procuradoriaGeral.index)\n"
   ]
  },
  {
   "cell_type": "code",
   "execution_count": 17,
   "metadata": {},
   "outputs": [
    {
     "data": {
      "text/plain": [
       "cadastro           70\n",
       "nome               70\n",
       "secretaria         70\n",
       "proventos          70\n",
       "liquido            70\n",
       "situacao           70\n",
       "vinculo            70\n",
       "cargo              70\n",
       "localabonocovid    70\n",
       "abonocovid         70\n",
       "horaextracovid     70\n",
       "dtype: int64"
      ]
     },
     "execution_count": 17,
     "metadata": {},
     "output_type": "execute_result"
    }
   ],
   "source": [
    "furadoresTeto.count()"
   ]
  },
  {
   "cell_type": "code",
   "execution_count": 18,
   "metadata": {},
   "outputs": [],
   "source": [
    "furadoresTeto = furadoresTeto[['nome','proventos','liquido','secretaria','cadastro','cargo']]\n",
    "furadoresTeto.columns = \"nome servidor\", \"salario bruto\", \"salario liquido\", \"secretaria\", \"cadastro\", \"cargo\""
   ]
  },
  {
   "cell_type": "code",
   "execution_count": 19,
   "metadata": {},
   "outputs": [
    {
     "data": {
      "text/html": [
       "<div>\n",
       "<style scoped>\n",
       "    .dataframe tbody tr th:only-of-type {\n",
       "        vertical-align: middle;\n",
       "    }\n",
       "\n",
       "    .dataframe tbody tr th {\n",
       "        vertical-align: top;\n",
       "    }\n",
       "\n",
       "    .dataframe thead th {\n",
       "        text-align: right;\n",
       "    }\n",
       "</style>\n",
       "<table border=\"1\" class=\"dataframe\">\n",
       "  <thead>\n",
       "    <tr style=\"text-align: right;\">\n",
       "      <th></th>\n",
       "      <th>nome servidor</th>\n",
       "      <th>salario bruto</th>\n",
       "      <th>salario liquido</th>\n",
       "      <th>secretaria</th>\n",
       "      <th>cadastro</th>\n",
       "      <th>cargo</th>\n",
       "    </tr>\n",
       "  </thead>\n",
       "  <tbody>\n",
       "    <tr>\n",
       "      <th>290</th>\n",
       "      <td>ALEXANDRE SILVA</td>\n",
       "      <td>31932.14</td>\n",
       "      <td>20792.77</td>\n",
       "      <td>Secretaria de Finanças</td>\n",
       "      <td>22727</td>\n",
       "      <td>AUD.FISC.TRIB. MUNICIPAIS II</td>\n",
       "    </tr>\n",
       "    <tr>\n",
       "      <th>570</th>\n",
       "      <td>ANDRE DE ARIMATEIA DE SOUZA LINO</td>\n",
       "      <td>23061.77</td>\n",
       "      <td>14851.27</td>\n",
       "      <td>Secretaria de Saúde</td>\n",
       "      <td>21246</td>\n",
       "      <td>MEDICO-CIRURGIAO GERAL 40H</td>\n",
       "    </tr>\n",
       "    <tr>\n",
       "      <th>590</th>\n",
       "      <td>ANDREA CHAVES FERREIRA SANTO AZZOLINI</td>\n",
       "      <td>25615.00</td>\n",
       "      <td>18716.83</td>\n",
       "      <td>Secretaria de Saúde</td>\n",
       "      <td>18409</td>\n",
       "      <td>MEDICO-GINECOLOGISTA 40H</td>\n",
       "    </tr>\n",
       "    <tr>\n",
       "      <th>688</th>\n",
       "      <td>ANGELA MARIA BARADEL</td>\n",
       "      <td>23688.94</td>\n",
       "      <td>15711.33</td>\n",
       "      <td>Secretaria de Finanças</td>\n",
       "      <td>12745</td>\n",
       "      <td>AUDITOR FISC. TRIB. MUNICIPAIS</td>\n",
       "    </tr>\n",
       "    <tr>\n",
       "      <th>769</th>\n",
       "      <td>ANTONIO MARIA CLARET SANT ANA</td>\n",
       "      <td>19001.00</td>\n",
       "      <td>13419.10</td>\n",
       "      <td>Secretaria de Meio Ambiente</td>\n",
       "      <td>2943</td>\n",
       "      <td>ENGENHEIRO AGRONOMO</td>\n",
       "    </tr>\n",
       "  </tbody>\n",
       "</table>\n",
       "</div>"
      ],
      "text/plain": [
       "                             nome servidor  salario bruto  salario liquido   \n",
       "290                        ALEXANDRE SILVA       31932.14         20792.77  \\\n",
       "570       ANDRE DE ARIMATEIA DE SOUZA LINO       23061.77         14851.27   \n",
       "590  ANDREA CHAVES FERREIRA SANTO AZZOLINI       25615.00         18716.83   \n",
       "688                   ANGELA MARIA BARADEL       23688.94         15711.33   \n",
       "769          ANTONIO MARIA CLARET SANT ANA       19001.00         13419.10   \n",
       "\n",
       "                      secretaria  cadastro                           cargo  \n",
       "290       Secretaria de Finanças     22727    AUD.FISC.TRIB. MUNICIPAIS II  \n",
       "570          Secretaria de Saúde     21246      MEDICO-CIRURGIAO GERAL 40H  \n",
       "590          Secretaria de Saúde     18409        MEDICO-GINECOLOGISTA 40H  \n",
       "688       Secretaria de Finanças     12745  AUDITOR FISC. TRIB. MUNICIPAIS  \n",
       "769  Secretaria de Meio Ambiente      2943             ENGENHEIRO AGRONOMO  "
      ]
     },
     "execution_count": 19,
     "metadata": {},
     "output_type": "execute_result"
    }
   ],
   "source": [
    "furadoresTeto.head()"
   ]
  },
  {
   "cell_type": "code",
   "execution_count": 22,
   "metadata": {},
   "outputs": [],
   "source": [
    "furadoresTeto.to_csv(r'.\\servidoresPrefMaua\\furadoresTeto-mes7.csv')"
   ]
  },
  {
   "attachments": {},
   "cell_type": "markdown",
   "metadata": {},
   "source": [
    "### Existe servidores duplicados?"
   ]
  },
  {
   "cell_type": "code",
   "execution_count": 23,
   "metadata": {},
   "outputs": [],
   "source": [
    "servidorCadNome = df[['cadastro','nome','situacao','vinculo','secretaria','cargo','proventos','liquido']]"
   ]
  },
  {
   "cell_type": "code",
   "execution_count": 24,
   "metadata": {},
   "outputs": [
    {
     "data": {
      "text/html": [
       "<div>\n",
       "<style scoped>\n",
       "    .dataframe tbody tr th:only-of-type {\n",
       "        vertical-align: middle;\n",
       "    }\n",
       "\n",
       "    .dataframe tbody tr th {\n",
       "        vertical-align: top;\n",
       "    }\n",
       "\n",
       "    .dataframe thead th {\n",
       "        text-align: right;\n",
       "    }\n",
       "</style>\n",
       "<table border=\"1\" class=\"dataframe\">\n",
       "  <thead>\n",
       "    <tr style=\"text-align: right;\">\n",
       "      <th></th>\n",
       "      <th>cadastro</th>\n",
       "      <th>nome</th>\n",
       "      <th>situacao</th>\n",
       "      <th>vinculo</th>\n",
       "      <th>secretaria</th>\n",
       "      <th>cargo</th>\n",
       "      <th>proventos</th>\n",
       "      <th>liquido</th>\n",
       "    </tr>\n",
       "  </thead>\n",
       "  <tbody>\n",
       "    <tr>\n",
       "      <th>0</th>\n",
       "      <td>41146</td>\n",
       "      <td>ABELARDO DE LIMA RODRIGUES</td>\n",
       "      <td>Ativo</td>\n",
       "      <td>ESTAT EFETIVO</td>\n",
       "      <td>Secretaria de Governo</td>\n",
       "      <td>ASSISTENTE ADM I</td>\n",
       "      <td>3880.01</td>\n",
       "      <td>2806.85</td>\n",
       "    </tr>\n",
       "    <tr>\n",
       "      <th>1</th>\n",
       "      <td>33545</td>\n",
       "      <td>ABILENE SILVA NOGUEIRA</td>\n",
       "      <td>Ativo</td>\n",
       "      <td>ESTAT EFETIVO</td>\n",
       "      <td>Secretaria de Educação</td>\n",
       "      <td>AUX. DESENV. INFANTIL IV</td>\n",
       "      <td>3859.74</td>\n",
       "      <td>2387.81</td>\n",
       "    </tr>\n",
       "    <tr>\n",
       "      <th>2</th>\n",
       "      <td>39269</td>\n",
       "      <td>ABRAAO FRANCISCO DA COSTA</td>\n",
       "      <td>Ativo</td>\n",
       "      <td>ESTAT COMISS</td>\n",
       "      <td>Gabinete do Prefeito</td>\n",
       "      <td>ASSESSOR ESPECIAL</td>\n",
       "      <td>12099.86</td>\n",
       "      <td>8834.92</td>\n",
       "    </tr>\n",
       "    <tr>\n",
       "      <th>3</th>\n",
       "      <td>35744</td>\n",
       "      <td>ACACIO JOARI BELLI</td>\n",
       "      <td>Ativo</td>\n",
       "      <td>ESTAT EFETIVO</td>\n",
       "      <td>Secretaria de Planejamento Urbano</td>\n",
       "      <td>A.F.A.U. MUNICIPAIS I</td>\n",
       "      <td>10827.67</td>\n",
       "      <td>8256.98</td>\n",
       "    </tr>\n",
       "    <tr>\n",
       "      <th>4</th>\n",
       "      <td>9000084</td>\n",
       "      <td>ADAILTON DE SOUZA SOARES JUNIOR</td>\n",
       "      <td>Ativo</td>\n",
       "      <td>GCM Aluno</td>\n",
       "      <td>Secretaria de Segurança Pública</td>\n",
       "      <td>GCM ALUNO</td>\n",
       "      <td>1736.40</td>\n",
       "      <td>1736.40</td>\n",
       "    </tr>\n",
       "  </tbody>\n",
       "</table>\n",
       "</div>"
      ],
      "text/plain": [
       "   cadastro                             nome situacao        vinculo   \n",
       "0     41146       ABELARDO DE LIMA RODRIGUES    Ativo  ESTAT EFETIVO  \\\n",
       "1     33545           ABILENE SILVA NOGUEIRA    Ativo  ESTAT EFETIVO   \n",
       "2     39269        ABRAAO FRANCISCO DA COSTA    Ativo   ESTAT COMISS   \n",
       "3     35744               ACACIO JOARI BELLI    Ativo  ESTAT EFETIVO   \n",
       "4   9000084  ADAILTON DE SOUZA SOARES JUNIOR    Ativo      GCM Aluno   \n",
       "\n",
       "                          secretaria                     cargo  proventos   \n",
       "0              Secretaria de Governo          ASSISTENTE ADM I    3880.01  \\\n",
       "1             Secretaria de Educação  AUX. DESENV. INFANTIL IV    3859.74   \n",
       "2               Gabinete do Prefeito         ASSESSOR ESPECIAL   12099.86   \n",
       "3  Secretaria de Planejamento Urbano     A.F.A.U. MUNICIPAIS I   10827.67   \n",
       "4    Secretaria de Segurança Pública                 GCM ALUNO    1736.40   \n",
       "\n",
       "   liquido  \n",
       "0  2806.85  \n",
       "1  2387.81  \n",
       "2  8834.92  \n",
       "3  8256.98  \n",
       "4  1736.40  "
      ]
     },
     "execution_count": 24,
     "metadata": {},
     "output_type": "execute_result"
    }
   ],
   "source": [
    "servidorCadNome.head()"
   ]
  },
  {
   "cell_type": "code",
   "execution_count": 25,
   "metadata": {},
   "outputs": [
    {
     "name": "stdout",
     "output_type": "stream",
     "text": [
      "74\n"
     ]
    }
   ],
   "source": [
    "semRepedidos = servidorCadNome['nome'].drop_duplicates().count()\n",
    "todos = servidorCadNome['nome'].count()\n",
    "\n",
    "print(todos - semRepedidos)"
   ]
  },
  {
   "cell_type": "code",
   "execution_count": 26,
   "metadata": {},
   "outputs": [],
   "source": [
    "servidoresDuplicados = servidorCadNome.duplicated('nome', False)\n"
   ]
  },
  {
   "cell_type": "code",
   "execution_count": 27,
   "metadata": {},
   "outputs": [],
   "source": [
    "servidorCadNome = servidorCadNome.assign(repetido = servidoresDuplicados)"
   ]
  },
  {
   "cell_type": "code",
   "execution_count": 28,
   "metadata": {},
   "outputs": [
    {
     "data": {
      "text/html": [
       "<div>\n",
       "<style scoped>\n",
       "    .dataframe tbody tr th:only-of-type {\n",
       "        vertical-align: middle;\n",
       "    }\n",
       "\n",
       "    .dataframe tbody tr th {\n",
       "        vertical-align: top;\n",
       "    }\n",
       "\n",
       "    .dataframe thead th {\n",
       "        text-align: right;\n",
       "    }\n",
       "</style>\n",
       "<table border=\"1\" class=\"dataframe\">\n",
       "  <thead>\n",
       "    <tr style=\"text-align: right;\">\n",
       "      <th></th>\n",
       "      <th>cadastro</th>\n",
       "      <th>nome</th>\n",
       "      <th>situacao</th>\n",
       "      <th>vinculo</th>\n",
       "      <th>secretaria</th>\n",
       "      <th>cargo</th>\n",
       "      <th>proventos</th>\n",
       "      <th>liquido</th>\n",
       "      <th>repetido</th>\n",
       "    </tr>\n",
       "  </thead>\n",
       "  <tbody>\n",
       "    <tr>\n",
       "      <th>0</th>\n",
       "      <td>41146</td>\n",
       "      <td>ABELARDO DE LIMA RODRIGUES</td>\n",
       "      <td>Ativo</td>\n",
       "      <td>ESTAT EFETIVO</td>\n",
       "      <td>Secretaria de Governo</td>\n",
       "      <td>ASSISTENTE ADM I</td>\n",
       "      <td>3880.01</td>\n",
       "      <td>2806.85</td>\n",
       "      <td>False</td>\n",
       "    </tr>\n",
       "    <tr>\n",
       "      <th>1</th>\n",
       "      <td>33545</td>\n",
       "      <td>ABILENE SILVA NOGUEIRA</td>\n",
       "      <td>Ativo</td>\n",
       "      <td>ESTAT EFETIVO</td>\n",
       "      <td>Secretaria de Educação</td>\n",
       "      <td>AUX. DESENV. INFANTIL IV</td>\n",
       "      <td>3859.74</td>\n",
       "      <td>2387.81</td>\n",
       "      <td>False</td>\n",
       "    </tr>\n",
       "    <tr>\n",
       "      <th>2</th>\n",
       "      <td>39269</td>\n",
       "      <td>ABRAAO FRANCISCO DA COSTA</td>\n",
       "      <td>Ativo</td>\n",
       "      <td>ESTAT COMISS</td>\n",
       "      <td>Gabinete do Prefeito</td>\n",
       "      <td>ASSESSOR ESPECIAL</td>\n",
       "      <td>12099.86</td>\n",
       "      <td>8834.92</td>\n",
       "      <td>False</td>\n",
       "    </tr>\n",
       "    <tr>\n",
       "      <th>3</th>\n",
       "      <td>35744</td>\n",
       "      <td>ACACIO JOARI BELLI</td>\n",
       "      <td>Ativo</td>\n",
       "      <td>ESTAT EFETIVO</td>\n",
       "      <td>Secretaria de Planejamento Urbano</td>\n",
       "      <td>A.F.A.U. MUNICIPAIS I</td>\n",
       "      <td>10827.67</td>\n",
       "      <td>8256.98</td>\n",
       "      <td>False</td>\n",
       "    </tr>\n",
       "    <tr>\n",
       "      <th>4</th>\n",
       "      <td>9000084</td>\n",
       "      <td>ADAILTON DE SOUZA SOARES JUNIOR</td>\n",
       "      <td>Ativo</td>\n",
       "      <td>GCM Aluno</td>\n",
       "      <td>Secretaria de Segurança Pública</td>\n",
       "      <td>GCM ALUNO</td>\n",
       "      <td>1736.40</td>\n",
       "      <td>1736.40</td>\n",
       "      <td>False</td>\n",
       "    </tr>\n",
       "  </tbody>\n",
       "</table>\n",
       "</div>"
      ],
      "text/plain": [
       "   cadastro                             nome situacao        vinculo   \n",
       "0     41146       ABELARDO DE LIMA RODRIGUES    Ativo  ESTAT EFETIVO  \\\n",
       "1     33545           ABILENE SILVA NOGUEIRA    Ativo  ESTAT EFETIVO   \n",
       "2     39269        ABRAAO FRANCISCO DA COSTA    Ativo   ESTAT COMISS   \n",
       "3     35744               ACACIO JOARI BELLI    Ativo  ESTAT EFETIVO   \n",
       "4   9000084  ADAILTON DE SOUZA SOARES JUNIOR    Ativo      GCM Aluno   \n",
       "\n",
       "                          secretaria                     cargo  proventos   \n",
       "0              Secretaria de Governo          ASSISTENTE ADM I    3880.01  \\\n",
       "1             Secretaria de Educação  AUX. DESENV. INFANTIL IV    3859.74   \n",
       "2               Gabinete do Prefeito         ASSESSOR ESPECIAL   12099.86   \n",
       "3  Secretaria de Planejamento Urbano     A.F.A.U. MUNICIPAIS I   10827.67   \n",
       "4    Secretaria de Segurança Pública                 GCM ALUNO    1736.40   \n",
       "\n",
       "   liquido  repetido  \n",
       "0  2806.85     False  \n",
       "1  2387.81     False  \n",
       "2  8834.92     False  \n",
       "3  8256.98     False  \n",
       "4  1736.40     False  "
      ]
     },
     "execution_count": 28,
     "metadata": {},
     "output_type": "execute_result"
    }
   ],
   "source": [
    "servidorCadNome.head()"
   ]
  },
  {
   "cell_type": "code",
   "execution_count": 29,
   "metadata": {},
   "outputs": [],
   "source": [
    "repetido = servidorCadNome['repetido']== True\n",
    "servidoresRepetidos = servidorCadNome[repetido]\n"
   ]
  },
  {
   "cell_type": "code",
   "execution_count": 30,
   "metadata": {},
   "outputs": [
    {
     "data": {
      "text/plain": [
       "145"
      ]
     },
     "execution_count": 30,
     "metadata": {},
     "output_type": "execute_result"
    }
   ],
   "source": [
    "servidoresRepetidos['nome'].count()"
   ]
  },
  {
   "cell_type": "code",
   "execution_count": 31,
   "metadata": {},
   "outputs": [
    {
     "data": {
      "text/html": [
       "<div>\n",
       "<style scoped>\n",
       "    .dataframe tbody tr th:only-of-type {\n",
       "        vertical-align: middle;\n",
       "    }\n",
       "\n",
       "    .dataframe tbody tr th {\n",
       "        vertical-align: top;\n",
       "    }\n",
       "\n",
       "    .dataframe thead th {\n",
       "        text-align: right;\n",
       "    }\n",
       "</style>\n",
       "<table border=\"1\" class=\"dataframe\">\n",
       "  <thead>\n",
       "    <tr style=\"text-align: right;\">\n",
       "      <th></th>\n",
       "      <th>cadastro</th>\n",
       "      <th>nome</th>\n",
       "      <th>situacao</th>\n",
       "      <th>vinculo</th>\n",
       "      <th>secretaria</th>\n",
       "      <th>cargo</th>\n",
       "      <th>proventos</th>\n",
       "      <th>liquido</th>\n",
       "      <th>repetido</th>\n",
       "    </tr>\n",
       "  </thead>\n",
       "  <tbody>\n",
       "    <tr>\n",
       "      <th>40</th>\n",
       "      <td>41254</td>\n",
       "      <td>ADILSON DOS SANTOS NASCIMENTO</td>\n",
       "      <td>Ativo</td>\n",
       "      <td>ESTAT EFETIVO</td>\n",
       "      <td>Secretaria de Educação</td>\n",
       "      <td>PEB II - AEE</td>\n",
       "      <td>3210.00</td>\n",
       "      <td>1858.76</td>\n",
       "      <td>True</td>\n",
       "    </tr>\n",
       "    <tr>\n",
       "      <th>41</th>\n",
       "      <td>36137</td>\n",
       "      <td>ADILSON DOS SANTOS NASCIMENTO</td>\n",
       "      <td>Ativo</td>\n",
       "      <td>ESTAT EFETIVO</td>\n",
       "      <td>Secretaria de Educação</td>\n",
       "      <td>PEB I</td>\n",
       "      <td>4655.13</td>\n",
       "      <td>3706.79</td>\n",
       "      <td>True</td>\n",
       "    </tr>\n",
       "    <tr>\n",
       "      <th>102</th>\n",
       "      <td>41770</td>\n",
       "      <td>ADRIANA OLIVEIRA DOS SANTOS</td>\n",
       "      <td>Ativo</td>\n",
       "      <td>ESTAT EFETIVO</td>\n",
       "      <td>Secretaria de Administração e Modernização</td>\n",
       "      <td>TECNICO ADMINISTRATIVO I</td>\n",
       "      <td>5491.38</td>\n",
       "      <td>4390.42</td>\n",
       "      <td>True</td>\n",
       "    </tr>\n",
       "    <tr>\n",
       "      <th>103</th>\n",
       "      <td>29050</td>\n",
       "      <td>ADRIANA OLIVEIRA DOS SANTOS</td>\n",
       "      <td>Ativo</td>\n",
       "      <td>ESTAT EFETIVO</td>\n",
       "      <td>Secretaria de Educação</td>\n",
       "      <td>PEB I</td>\n",
       "      <td>6346.92</td>\n",
       "      <td>3656.20</td>\n",
       "      <td>True</td>\n",
       "    </tr>\n",
       "    <tr>\n",
       "      <th>108</th>\n",
       "      <td>8007874</td>\n",
       "      <td>ADRIANA RODRIGUES DA SILVA</td>\n",
       "      <td>Ativo</td>\n",
       "      <td>EVENTUAL</td>\n",
       "      <td>Secretaria de Educação</td>\n",
       "      <td>PEB I</td>\n",
       "      <td>2471.33</td>\n",
       "      <td>2268.72</td>\n",
       "      <td>True</td>\n",
       "    </tr>\n",
       "  </tbody>\n",
       "</table>\n",
       "</div>"
      ],
      "text/plain": [
       "     cadastro                           nome situacao        vinculo   \n",
       "40      41254  ADILSON DOS SANTOS NASCIMENTO    Ativo  ESTAT EFETIVO  \\\n",
       "41      36137  ADILSON DOS SANTOS NASCIMENTO    Ativo  ESTAT EFETIVO   \n",
       "102     41770    ADRIANA OLIVEIRA DOS SANTOS    Ativo  ESTAT EFETIVO   \n",
       "103     29050    ADRIANA OLIVEIRA DOS SANTOS    Ativo  ESTAT EFETIVO   \n",
       "108   8007874     ADRIANA RODRIGUES DA SILVA    Ativo       EVENTUAL   \n",
       "\n",
       "                                     secretaria                     cargo   \n",
       "40                       Secretaria de Educação              PEB II - AEE  \\\n",
       "41                       Secretaria de Educação                     PEB I   \n",
       "102  Secretaria de Administração e Modernização  TECNICO ADMINISTRATIVO I   \n",
       "103                      Secretaria de Educação                     PEB I   \n",
       "108                      Secretaria de Educação                     PEB I   \n",
       "\n",
       "     proventos  liquido  repetido  \n",
       "40     3210.00  1858.76      True  \n",
       "41     4655.13  3706.79      True  \n",
       "102    5491.38  4390.42      True  \n",
       "103    6346.92  3656.20      True  \n",
       "108    2471.33  2268.72      True  "
      ]
     },
     "execution_count": 31,
     "metadata": {},
     "output_type": "execute_result"
    }
   ],
   "source": [
    "servidoresRepetidos.head()"
   ]
  },
  {
   "cell_type": "code",
   "execution_count": 32,
   "metadata": {},
   "outputs": [],
   "source": [
    "servidoresRepetidos = servidoresRepetidos[['cadastro','nome','situacao','cargo','vinculo','secretaria','proventos','liquido']]\n",
    "servidoresRepetidos.columns = [['cadastro','nome servidor','situacao','cargo','vinculo','secretaria','salario bruto','salario liquido']]"
   ]
  },
  {
   "cell_type": "code",
   "execution_count": 33,
   "metadata": {},
   "outputs": [
    {
     "data": {
      "text/html": [
       "<div>\n",
       "<style scoped>\n",
       "    .dataframe tbody tr th:only-of-type {\n",
       "        vertical-align: middle;\n",
       "    }\n",
       "\n",
       "    .dataframe tbody tr th {\n",
       "        vertical-align: top;\n",
       "    }\n",
       "\n",
       "    .dataframe thead tr th {\n",
       "        text-align: left;\n",
       "    }\n",
       "</style>\n",
       "<table border=\"1\" class=\"dataframe\">\n",
       "  <thead>\n",
       "    <tr>\n",
       "      <th></th>\n",
       "      <th>cadastro</th>\n",
       "      <th>nome servidor</th>\n",
       "      <th>situacao</th>\n",
       "      <th>cargo</th>\n",
       "      <th>vinculo</th>\n",
       "      <th>secretaria</th>\n",
       "      <th>salario bruto</th>\n",
       "      <th>salario liquido</th>\n",
       "    </tr>\n",
       "  </thead>\n",
       "  <tbody>\n",
       "    <tr>\n",
       "      <th>40</th>\n",
       "      <td>41254</td>\n",
       "      <td>ADILSON DOS SANTOS NASCIMENTO</td>\n",
       "      <td>Ativo</td>\n",
       "      <td>PEB II - AEE</td>\n",
       "      <td>ESTAT EFETIVO</td>\n",
       "      <td>Secretaria de Educação</td>\n",
       "      <td>3210.00</td>\n",
       "      <td>1858.76</td>\n",
       "    </tr>\n",
       "    <tr>\n",
       "      <th>41</th>\n",
       "      <td>36137</td>\n",
       "      <td>ADILSON DOS SANTOS NASCIMENTO</td>\n",
       "      <td>Ativo</td>\n",
       "      <td>PEB I</td>\n",
       "      <td>ESTAT EFETIVO</td>\n",
       "      <td>Secretaria de Educação</td>\n",
       "      <td>4655.13</td>\n",
       "      <td>3706.79</td>\n",
       "    </tr>\n",
       "    <tr>\n",
       "      <th>102</th>\n",
       "      <td>41770</td>\n",
       "      <td>ADRIANA OLIVEIRA DOS SANTOS</td>\n",
       "      <td>Ativo</td>\n",
       "      <td>TECNICO ADMINISTRATIVO I</td>\n",
       "      <td>ESTAT EFETIVO</td>\n",
       "      <td>Secretaria de Administração e Modernização</td>\n",
       "      <td>5491.38</td>\n",
       "      <td>4390.42</td>\n",
       "    </tr>\n",
       "    <tr>\n",
       "      <th>103</th>\n",
       "      <td>29050</td>\n",
       "      <td>ADRIANA OLIVEIRA DOS SANTOS</td>\n",
       "      <td>Ativo</td>\n",
       "      <td>PEB I</td>\n",
       "      <td>ESTAT EFETIVO</td>\n",
       "      <td>Secretaria de Educação</td>\n",
       "      <td>6346.92</td>\n",
       "      <td>3656.20</td>\n",
       "    </tr>\n",
       "    <tr>\n",
       "      <th>108</th>\n",
       "      <td>8007874</td>\n",
       "      <td>ADRIANA RODRIGUES DA SILVA</td>\n",
       "      <td>Ativo</td>\n",
       "      <td>PEB I</td>\n",
       "      <td>EVENTUAL</td>\n",
       "      <td>Secretaria de Educação</td>\n",
       "      <td>2471.33</td>\n",
       "      <td>2268.72</td>\n",
       "    </tr>\n",
       "  </tbody>\n",
       "</table>\n",
       "</div>"
      ],
      "text/plain": [
       "    cadastro                  nome servidor situacao   \n",
       "40     41254  ADILSON DOS SANTOS NASCIMENTO    Ativo  \\\n",
       "41     36137  ADILSON DOS SANTOS NASCIMENTO    Ativo   \n",
       "102    41770    ADRIANA OLIVEIRA DOS SANTOS    Ativo   \n",
       "103    29050    ADRIANA OLIVEIRA DOS SANTOS    Ativo   \n",
       "108  8007874     ADRIANA RODRIGUES DA SILVA    Ativo   \n",
       "\n",
       "                        cargo        vinculo   \n",
       "40               PEB II - AEE  ESTAT EFETIVO  \\\n",
       "41                      PEB I  ESTAT EFETIVO   \n",
       "102  TECNICO ADMINISTRATIVO I  ESTAT EFETIVO   \n",
       "103                     PEB I  ESTAT EFETIVO   \n",
       "108                     PEB I       EVENTUAL   \n",
       "\n",
       "                                     secretaria salario bruto salario liquido  \n",
       "40                       Secretaria de Educação       3210.00         1858.76  \n",
       "41                       Secretaria de Educação       4655.13         3706.79  \n",
       "102  Secretaria de Administração e Modernização       5491.38         4390.42  \n",
       "103                      Secretaria de Educação       6346.92         3656.20  \n",
       "108                      Secretaria de Educação       2471.33         2268.72  "
      ]
     },
     "execution_count": 33,
     "metadata": {},
     "output_type": "execute_result"
    }
   ],
   "source": [
    "servidoresRepetidos.head()"
   ]
  },
  {
   "cell_type": "code",
   "execution_count": 36,
   "metadata": {},
   "outputs": [],
   "source": [
    "servidoresRepetidos.to_csv(r'.\\servidoresPrefMaua\\servidoresRepetidos-mes7.csv')"
   ]
  },
  {
   "cell_type": "code",
   "execution_count": 37,
   "metadata": {},
   "outputs": [
    {
     "data": {
      "text/html": [
       "<div>\n",
       "<style scoped>\n",
       "    .dataframe tbody tr th:only-of-type {\n",
       "        vertical-align: middle;\n",
       "    }\n",
       "\n",
       "    .dataframe tbody tr th {\n",
       "        vertical-align: top;\n",
       "    }\n",
       "\n",
       "    .dataframe thead tr th {\n",
       "        text-align: left;\n",
       "    }\n",
       "</style>\n",
       "<table border=\"1\" class=\"dataframe\">\n",
       "  <thead>\n",
       "    <tr>\n",
       "      <th></th>\n",
       "      <th>cadastro</th>\n",
       "      <th>nome servidor</th>\n",
       "      <th>situacao</th>\n",
       "      <th>cargo</th>\n",
       "      <th>vinculo</th>\n",
       "      <th>secretaria</th>\n",
       "      <th>salario bruto</th>\n",
       "      <th>salario liquido</th>\n",
       "    </tr>\n",
       "  </thead>\n",
       "  <tbody>\n",
       "    <tr>\n",
       "      <th>40</th>\n",
       "      <td>NaN</td>\n",
       "      <td>NaN</td>\n",
       "      <td>NaN</td>\n",
       "      <td>NaN</td>\n",
       "      <td>NaN</td>\n",
       "      <td>NaN</td>\n",
       "      <td>NaN</td>\n",
       "      <td>NaN</td>\n",
       "    </tr>\n",
       "    <tr>\n",
       "      <th>41</th>\n",
       "      <td>NaN</td>\n",
       "      <td>NaN</td>\n",
       "      <td>NaN</td>\n",
       "      <td>NaN</td>\n",
       "      <td>NaN</td>\n",
       "      <td>NaN</td>\n",
       "      <td>NaN</td>\n",
       "      <td>NaN</td>\n",
       "    </tr>\n",
       "    <tr>\n",
       "      <th>102</th>\n",
       "      <td>NaN</td>\n",
       "      <td>NaN</td>\n",
       "      <td>NaN</td>\n",
       "      <td>NaN</td>\n",
       "      <td>NaN</td>\n",
       "      <td>NaN</td>\n",
       "      <td>NaN</td>\n",
       "      <td>NaN</td>\n",
       "    </tr>\n",
       "    <tr>\n",
       "      <th>103</th>\n",
       "      <td>NaN</td>\n",
       "      <td>NaN</td>\n",
       "      <td>NaN</td>\n",
       "      <td>NaN</td>\n",
       "      <td>NaN</td>\n",
       "      <td>NaN</td>\n",
       "      <td>NaN</td>\n",
       "      <td>NaN</td>\n",
       "    </tr>\n",
       "    <tr>\n",
       "      <th>108</th>\n",
       "      <td>NaN</td>\n",
       "      <td>NaN</td>\n",
       "      <td>NaN</td>\n",
       "      <td>NaN</td>\n",
       "      <td>NaN</td>\n",
       "      <td>NaN</td>\n",
       "      <td>NaN</td>\n",
       "      <td>NaN</td>\n",
       "    </tr>\n",
       "    <tr>\n",
       "      <th>...</th>\n",
       "      <td>...</td>\n",
       "      <td>...</td>\n",
       "      <td>...</td>\n",
       "      <td>...</td>\n",
       "      <td>...</td>\n",
       "      <td>...</td>\n",
       "      <td>...</td>\n",
       "      <td>...</td>\n",
       "    </tr>\n",
       "    <tr>\n",
       "      <th>7273</th>\n",
       "      <td>NaN</td>\n",
       "      <td>NaN</td>\n",
       "      <td>Outra</td>\n",
       "      <td>NaN</td>\n",
       "      <td>NaN</td>\n",
       "      <td>NaN</td>\n",
       "      <td>NaN</td>\n",
       "      <td>NaN</td>\n",
       "    </tr>\n",
       "    <tr>\n",
       "      <th>7325</th>\n",
       "      <td>NaN</td>\n",
       "      <td>NaN</td>\n",
       "      <td>NaN</td>\n",
       "      <td>NaN</td>\n",
       "      <td>NaN</td>\n",
       "      <td>NaN</td>\n",
       "      <td>NaN</td>\n",
       "      <td>NaN</td>\n",
       "    </tr>\n",
       "    <tr>\n",
       "      <th>7326</th>\n",
       "      <td>NaN</td>\n",
       "      <td>NaN</td>\n",
       "      <td>NaN</td>\n",
       "      <td>NaN</td>\n",
       "      <td>NaN</td>\n",
       "      <td>NaN</td>\n",
       "      <td>NaN</td>\n",
       "      <td>NaN</td>\n",
       "    </tr>\n",
       "    <tr>\n",
       "      <th>7366</th>\n",
       "      <td>NaN</td>\n",
       "      <td>NaN</td>\n",
       "      <td>NaN</td>\n",
       "      <td>NaN</td>\n",
       "      <td>NaN</td>\n",
       "      <td>NaN</td>\n",
       "      <td>NaN</td>\n",
       "      <td>NaN</td>\n",
       "    </tr>\n",
       "    <tr>\n",
       "      <th>7367</th>\n",
       "      <td>NaN</td>\n",
       "      <td>NaN</td>\n",
       "      <td>NaN</td>\n",
       "      <td>NaN</td>\n",
       "      <td>NaN</td>\n",
       "      <td>NaN</td>\n",
       "      <td>NaN</td>\n",
       "      <td>NaN</td>\n",
       "    </tr>\n",
       "  </tbody>\n",
       "</table>\n",
       "<p>145 rows × 8 columns</p>\n",
       "</div>"
      ],
      "text/plain": [
       "     cadastro nome servidor situacao cargo vinculo secretaria salario bruto   \n",
       "40        NaN           NaN      NaN   NaN     NaN        NaN           NaN  \\\n",
       "41        NaN           NaN      NaN   NaN     NaN        NaN           NaN   \n",
       "102       NaN           NaN      NaN   NaN     NaN        NaN           NaN   \n",
       "103       NaN           NaN      NaN   NaN     NaN        NaN           NaN   \n",
       "108       NaN           NaN      NaN   NaN     NaN        NaN           NaN   \n",
       "...       ...           ...      ...   ...     ...        ...           ...   \n",
       "7273      NaN           NaN    Outra   NaN     NaN        NaN           NaN   \n",
       "7325      NaN           NaN      NaN   NaN     NaN        NaN           NaN   \n",
       "7326      NaN           NaN      NaN   NaN     NaN        NaN           NaN   \n",
       "7366      NaN           NaN      NaN   NaN     NaN        NaN           NaN   \n",
       "7367      NaN           NaN      NaN   NaN     NaN        NaN           NaN   \n",
       "\n",
       "     salario liquido  \n",
       "40               NaN  \n",
       "41               NaN  \n",
       "102              NaN  \n",
       "103              NaN  \n",
       "108              NaN  \n",
       "...              ...  \n",
       "7273             NaN  \n",
       "7325             NaN  \n",
       "7326             NaN  \n",
       "7366             NaN  \n",
       "7367             NaN  \n",
       "\n",
       "[145 rows x 8 columns]"
      ]
     },
     "execution_count": 37,
     "metadata": {},
     "output_type": "execute_result"
    }
   ],
   "source": [
    "servidoresRepetidos[servidoresRepetidos['situacao'] != 'Ativo']"
   ]
  },
  {
   "cell_type": "code",
   "execution_count": 38,
   "metadata": {},
   "outputs": [
    {
     "ename": "KeyError",
     "evalue": "\"['nome' 'proventos' 'liquido'] not in index\"",
     "output_type": "error",
     "traceback": [
      "\u001b[1;31m---------------------------------------------------------------------------\u001b[0m",
      "\u001b[1;31mKeyError\u001b[0m                                  Traceback (most recent call last)",
      "Cell \u001b[1;32mIn[38], line 1\u001b[0m\n\u001b[1;32m----> 1\u001b[0m somarRepetidos \u001b[39m=\u001b[39m servidoresRepetidos[[\u001b[39m'\u001b[39;49m\u001b[39mcadastro\u001b[39;49m\u001b[39m'\u001b[39;49m,\u001b[39m'\u001b[39;49m\u001b[39mnome\u001b[39;49m\u001b[39m'\u001b[39;49m,\u001b[39m'\u001b[39;49m\u001b[39msecretaria\u001b[39;49m\u001b[39m'\u001b[39;49m,\u001b[39m'\u001b[39;49m\u001b[39mcargo\u001b[39;49m\u001b[39m'\u001b[39;49m,\u001b[39m'\u001b[39;49m\u001b[39mproventos\u001b[39;49m\u001b[39m'\u001b[39;49m,\u001b[39m'\u001b[39;49m\u001b[39mliquido\u001b[39;49m\u001b[39m'\u001b[39;49m]]\n\u001b[0;32m      2\u001b[0m somarRepetidos\u001b[39m.\u001b[39mreset_index()\n",
      "File \u001b[1;32mc:\\code\\sandbox\\Lib\\site-packages\\pandas\\core\\frame.py:3767\u001b[0m, in \u001b[0;36mDataFrame.__getitem__\u001b[1;34m(self, key)\u001b[0m\n\u001b[0;32m   3765\u001b[0m     \u001b[39mif\u001b[39;00m is_iterator(key):\n\u001b[0;32m   3766\u001b[0m         key \u001b[39m=\u001b[39m \u001b[39mlist\u001b[39m(key)\n\u001b[1;32m-> 3767\u001b[0m     indexer \u001b[39m=\u001b[39m \u001b[39mself\u001b[39;49m\u001b[39m.\u001b[39;49mcolumns\u001b[39m.\u001b[39;49m_get_indexer_strict(key, \u001b[39m\"\u001b[39;49m\u001b[39mcolumns\u001b[39;49m\u001b[39m\"\u001b[39;49m)[\u001b[39m1\u001b[39m]\n\u001b[0;32m   3769\u001b[0m \u001b[39m# take() does not accept boolean indexers\u001b[39;00m\n\u001b[0;32m   3770\u001b[0m \u001b[39mif\u001b[39;00m \u001b[39mgetattr\u001b[39m(indexer, \u001b[39m\"\u001b[39m\u001b[39mdtype\u001b[39m\u001b[39m\"\u001b[39m, \u001b[39mNone\u001b[39;00m) \u001b[39m==\u001b[39m \u001b[39mbool\u001b[39m:\n",
      "File \u001b[1;32mc:\\code\\sandbox\\Lib\\site-packages\\pandas\\core\\indexes\\multi.py:2536\u001b[0m, in \u001b[0;36mMultiIndex._get_indexer_strict\u001b[1;34m(self, key, axis_name)\u001b[0m\n\u001b[0;32m   2533\u001b[0m \u001b[39mif\u001b[39;00m \u001b[39mlen\u001b[39m(keyarr) \u001b[39mand\u001b[39;00m \u001b[39mnot\u001b[39;00m \u001b[39misinstance\u001b[39m(keyarr[\u001b[39m0\u001b[39m], \u001b[39mtuple\u001b[39m):\n\u001b[0;32m   2534\u001b[0m     indexer \u001b[39m=\u001b[39m \u001b[39mself\u001b[39m\u001b[39m.\u001b[39m_get_indexer_level_0(keyarr)\n\u001b[1;32m-> 2536\u001b[0m     \u001b[39mself\u001b[39;49m\u001b[39m.\u001b[39;49m_raise_if_missing(key, indexer, axis_name)\n\u001b[0;32m   2537\u001b[0m     \u001b[39mreturn\u001b[39;00m \u001b[39mself\u001b[39m[indexer], indexer\n\u001b[0;32m   2539\u001b[0m \u001b[39mreturn\u001b[39;00m \u001b[39msuper\u001b[39m()\u001b[39m.\u001b[39m_get_indexer_strict(key, axis_name)\n",
      "File \u001b[1;32mc:\\code\\sandbox\\Lib\\site-packages\\pandas\\core\\indexes\\multi.py:2554\u001b[0m, in \u001b[0;36mMultiIndex._raise_if_missing\u001b[1;34m(self, key, indexer, axis_name)\u001b[0m\n\u001b[0;32m   2552\u001b[0m cmask \u001b[39m=\u001b[39m check \u001b[39m==\u001b[39m \u001b[39m-\u001b[39m\u001b[39m1\u001b[39m\n\u001b[0;32m   2553\u001b[0m \u001b[39mif\u001b[39;00m cmask\u001b[39m.\u001b[39many():\n\u001b[1;32m-> 2554\u001b[0m     \u001b[39mraise\u001b[39;00m \u001b[39mKeyError\u001b[39;00m(\u001b[39mf\u001b[39m\u001b[39m\"\u001b[39m\u001b[39m{\u001b[39;00mkeyarr[cmask]\u001b[39m}\u001b[39;00m\u001b[39m not in index\u001b[39m\u001b[39m\"\u001b[39m)\n\u001b[0;32m   2555\u001b[0m \u001b[39m# We get here when levels still contain values which are not\u001b[39;00m\n\u001b[0;32m   2556\u001b[0m \u001b[39m# actually in Index anymore\u001b[39;00m\n\u001b[0;32m   2557\u001b[0m \u001b[39mraise\u001b[39;00m \u001b[39mKeyError\u001b[39;00m(\u001b[39mf\u001b[39m\u001b[39m\"\u001b[39m\u001b[39m{\u001b[39;00mkeyarr\u001b[39m}\u001b[39;00m\u001b[39m not in index\u001b[39m\u001b[39m\"\u001b[39m)\n",
      "\u001b[1;31mKeyError\u001b[0m: \"['nome' 'proventos' 'liquido'] not in index\""
     ]
    }
   ],
   "source": [
    "somarRepetidos = servidoresRepetidos[['cadastro','nome','secretaria','cargo','proventos','liquido']]\n",
    "somarRepetidos.reset_index()"
   ]
  },
  {
   "cell_type": "code",
   "execution_count": 40,
   "metadata": {},
   "outputs": [
    {
     "ename": "NameError",
     "evalue": "name 'somarRepetidos' is not defined",
     "output_type": "error",
     "traceback": [
      "\u001b[1;31m---------------------------------------------------------------------------\u001b[0m",
      "\u001b[1;31mNameError\u001b[0m                                 Traceback (most recent call last)",
      "Cell \u001b[1;32mIn[40], line 11\u001b[0m\n\u001b[0;32m      8\u001b[0m cargo1 \u001b[39m=\u001b[39m []\n\u001b[0;32m      9\u001b[0m cargo2 \u001b[39m=\u001b[39m []\n\u001b[1;32m---> 11\u001b[0m \u001b[39mfor\u001b[39;00m linha \u001b[39min\u001b[39;00m somarRepetidos[\u001b[39m'\u001b[39m\u001b[39mnome\u001b[39m\u001b[39m'\u001b[39m]:\n\u001b[0;32m     12\u001b[0m     \u001b[39mif\u001b[39;00m(i\u001b[39m<\u001b[39m somarRepetidos[\u001b[39m'\u001b[39m\u001b[39mnome\u001b[39m\u001b[39m'\u001b[39m]\u001b[39m.\u001b[39mcount()\u001b[39m-\u001b[39m\u001b[39m1\u001b[39m):\n\u001b[0;32m     13\u001b[0m         \u001b[39mif\u001b[39;00m (somarRepetidos\u001b[39m.\u001b[39miloc[i][\u001b[39m'\u001b[39m\u001b[39mnome\u001b[39m\u001b[39m'\u001b[39m] \u001b[39m==\u001b[39m somarRepetidos\u001b[39m.\u001b[39miloc[i\u001b[39m+\u001b[39m\u001b[39m1\u001b[39m][\u001b[39m'\u001b[39m\u001b[39mnome\u001b[39m\u001b[39m'\u001b[39m]):\n",
      "\u001b[1;31mNameError\u001b[0m: name 'somarRepetidos' is not defined"
     ]
    }
   ],
   "source": [
    "i = 0\n",
    "salariosLiquidos = []\n",
    "salariosBrutos = []\n",
    "servidoresNomes = []\n",
    "secretaria = []\n",
    "cadastro1 = []\n",
    "cadastro2 = []\n",
    "cargo1 = []\n",
    "cargo2 = []\n",
    "\n",
    "for linha in somarRepetidos['nome']:\n",
    "    if(i< somarRepetidos['nome'].count()-1):\n",
    "        if (somarRepetidos.iloc[i]['nome'] == somarRepetidos.iloc[i+1]['nome']):\n",
    "            bruto = somarRepetidos.iloc[i]['proventos']+somarRepetidos.iloc[i+1]['proventos']\n",
    "            liquido = somarRepetidos.iloc[i]['liquido']+somarRepetidos.iloc[i+1]['liquido']\n",
    "            salariosBrutos.append(float(round(bruto,2)))\n",
    "            salariosLiquidos.append(float(round(liquido,2)))\n",
    "            servidoresNomes.append(str(somarRepetidos.iloc[i]['nome']))\n",
    "            secretaria.append(str(somarRepetidos.iloc[i]['secretaria']))\n",
    "            cadastro1.append(str(somarRepetidos.iloc[i]['cadastro']))\n",
    "            cadastro2.append(str(somarRepetidos.iloc[i+1]['cadastro']))\n",
    "            cargo1.append(str(somarRepetidos.iloc[i]['cargo']))\n",
    "            cargo2.append(str(somarRepetidos.iloc[i+1]['cargo']))\n",
    "    i = i + 1\n",
    "    "
   ]
  },
  {
   "cell_type": "code",
   "execution_count": 41,
   "metadata": {},
   "outputs": [],
   "source": [
    "salariosBrutos = np.array(salariosBrutos)\n",
    "salariosLiquidos = np.array(salariosLiquidos)\n",
    "servidoresNomes = np.array(servidoresNomes)\n",
    "secretaria = np.array(secretaria)\n",
    "cadastro1 = np.array(cadastro1)\n",
    "cadastro2 = np.array(cadastro2)\n",
    "cargo1 = np.array(cargo1)\n",
    "cargo2 = np.array(cargo2)"
   ]
  },
  {
   "cell_type": "code",
   "execution_count": 42,
   "metadata": {},
   "outputs": [],
   "source": [
    "servidoresNomes = pd.DataFrame(servidoresNomes, columns=['nome'])\n",
    "salariosLiquidos = pd.DataFrame(salariosLiquidos, columns=['liquido'])\n",
    "salariosBrutos = pd.DataFrame(salariosBrutos, columns=['bruto'])\n",
    "secretaria = pd.DataFrame(secretaria, columns=['secretaria'])\n",
    "cadastro1 = pd.DataFrame(cadastro1, columns=['cadastro1'])\n",
    "cadastro2 = pd.DataFrame(cadastro2, columns=['cadastro2'])\n",
    "cargo1 = pd.DataFrame(cargo1, columns=['cargo1'])\n",
    "cargo2 = pd.DataFrame(cargo2, columns=['cargo2'])"
   ]
  },
  {
   "cell_type": "code",
   "execution_count": 43,
   "metadata": {},
   "outputs": [],
   "source": [
    "servidoresRepedidosSomados = pd.merge(servidoresNomes,salariosBrutos, left_index= True , right_index= True)\n",
    "servidoresRepedidosSomados = pd.merge(servidoresRepedidosSomados,salariosLiquidos, left_index= True , right_index= True)\n",
    "servidoresRepedidosSomados = pd.merge(servidoresRepedidosSomados,secretaria, left_index= True , right_index= True)\n",
    "servidoresRepedidosSomados = pd.merge(servidoresRepedidosSomados,cadastro1, left_index= True , right_index= True)\n",
    "servidoresRepedidosSomados = pd.merge(servidoresRepedidosSomados,cadastro2, left_index= True , right_index= True)\n",
    "servidoresRepedidosSomados = pd.merge(servidoresRepedidosSomados,cargo1, left_index= True , right_index= True)\n",
    "servidoresRepedidosSomados = pd.merge(servidoresRepedidosSomados,cargo2, left_index= True , right_index= True)"
   ]
  },
  {
   "cell_type": "code",
   "execution_count": 44,
   "metadata": {},
   "outputs": [
    {
     "data": {
      "text/html": [
       "<div>\n",
       "<style scoped>\n",
       "    .dataframe tbody tr th:only-of-type {\n",
       "        vertical-align: middle;\n",
       "    }\n",
       "\n",
       "    .dataframe tbody tr th {\n",
       "        vertical-align: top;\n",
       "    }\n",
       "\n",
       "    .dataframe thead th {\n",
       "        text-align: right;\n",
       "    }\n",
       "</style>\n",
       "<table border=\"1\" class=\"dataframe\">\n",
       "  <thead>\n",
       "    <tr style=\"text-align: right;\">\n",
       "      <th></th>\n",
       "      <th>nome</th>\n",
       "      <th>bruto</th>\n",
       "      <th>liquido</th>\n",
       "      <th>secretaria</th>\n",
       "      <th>cadastro1</th>\n",
       "      <th>cadastro2</th>\n",
       "      <th>cargo1</th>\n",
       "      <th>cargo2</th>\n",
       "    </tr>\n",
       "  </thead>\n",
       "  <tbody>\n",
       "  </tbody>\n",
       "</table>\n",
       "</div>"
      ],
      "text/plain": [
       "Empty DataFrame\n",
       "Columns: [nome, bruto, liquido, secretaria, cadastro1, cadastro2, cargo1, cargo2]\n",
       "Index: []"
      ]
     },
     "execution_count": 44,
     "metadata": {},
     "output_type": "execute_result"
    }
   ],
   "source": [
    "servidoresRepedidosSomados.head()"
   ]
  },
  {
   "cell_type": "code",
   "execution_count": 46,
   "metadata": {},
   "outputs": [],
   "source": [
    "servidoresRepedidosSomados.columns = \"Nome do Servidor\",\"Salario Bruto\",\"Salario Liquido\", \"Secretaria no 1º Cadastro\", \"1º Cadastro\", \"2º Cadastro\",\"Cargo 1º Cad\",\"Cargo 2º Cad\"\n",
    "servidoresRepedidosSomados.to_csv(r'.\\servidoresPrefMaua\\servidorRepetidos-mes7.csv')"
   ]
  },
  {
   "cell_type": "code",
   "execution_count": 48,
   "metadata": {},
   "outputs": [],
   "source": [
    "filtroProventos = servidoresRepedidosSomados['Salario Bruto'] > tetoMunicipal\n",
    "filtroLiquidos = servidoresRepedidosSomados['Salario Liquido'] > liquidoPrefeito"
   ]
  },
  {
   "cell_type": "code",
   "execution_count": 49,
   "metadata": {},
   "outputs": [],
   "source": [
    "df_servidoresRepetidos_105_bruto = servidoresRepedidosSomados[filtroProventos]\n",
    "df_servidoresRepetidos_105_liquido = servidoresRepedidosSomados[filtroLiquidos]"
   ]
  },
  {
   "cell_type": "code",
   "execution_count": 50,
   "metadata": {},
   "outputs": [],
   "source": [
    "df_servidoresRepetidos_105_liquido.columns = \"Nome do Servidor\",\"Salario Bruto\",\"Salario Liquido\", \"Secretaria no 1º Cadastro\", \"1º Cadastro\", \"2º Cadastro\",\"Cargo 1º Cad\",\"Cargo 2º Cad\"\n",
    "df_servidoresRepetidos_105_bruto.columns = \"Nome do Servidor\",\"Salario Bruto\",\"Salario Liquido\", \"Secretaria no 1º Cadastro\", \"1º Cadastro\", \"2º Cadastro\",\"Cargo 1º Cad\",\"Cargo 2º Cad\""
   ]
  },
  {
   "cell_type": "code",
   "execution_count": 45,
   "metadata": {},
   "outputs": [],
   "source": [
    "df_servidoresRepetidos_105_liquido.to_csv(r'A:\\code\\analiseOrcamentoMaua\\servidoresPrefMaua\\servidorLiquidos105.csv')\n"
   ]
  },
  {
   "cell_type": "code",
   "execution_count": 51,
   "metadata": {},
   "outputs": [
    {
     "data": {
      "text/html": [
       "<div>\n",
       "<style scoped>\n",
       "    .dataframe tbody tr th:only-of-type {\n",
       "        vertical-align: middle;\n",
       "    }\n",
       "\n",
       "    .dataframe tbody tr th {\n",
       "        vertical-align: top;\n",
       "    }\n",
       "\n",
       "    .dataframe thead th {\n",
       "        text-align: right;\n",
       "    }\n",
       "</style>\n",
       "<table border=\"1\" class=\"dataframe\">\n",
       "  <thead>\n",
       "    <tr style=\"text-align: right;\">\n",
       "      <th></th>\n",
       "      <th>Nome do Servidor</th>\n",
       "      <th>Salario Bruto</th>\n",
       "      <th>Salario Liquido</th>\n",
       "      <th>Secretaria no 1º Cadastro</th>\n",
       "      <th>1º Cadastro</th>\n",
       "      <th>2º Cadastro</th>\n",
       "      <th>Cargo 1º Cad</th>\n",
       "      <th>Cargo 2º Cad</th>\n",
       "    </tr>\n",
       "  </thead>\n",
       "  <tbody>\n",
       "  </tbody>\n",
       "</table>\n",
       "</div>"
      ],
      "text/plain": [
       "Empty DataFrame\n",
       "Columns: [Nome do Servidor, Salario Bruto, Salario Liquido, Secretaria no 1º Cadastro, 1º Cadastro, 2º Cadastro, Cargo 1º Cad, Cargo 2º Cad]\n",
       "Index: []"
      ]
     },
     "execution_count": 51,
     "metadata": {},
     "output_type": "execute_result"
    }
   ],
   "source": [
    "df_servidoresRepetidos_105_bruto"
   ]
  },
  {
   "cell_type": "code",
   "execution_count": 47,
   "metadata": {},
   "outputs": [
    {
     "data": {
      "text/plain": [
       "Nome do Servidor             15\n",
       "Salario Bruto                15\n",
       "Salario Liquido              15\n",
       "Secretaria no 1º Cadastro    15\n",
       "1º Cadastro                  15\n",
       "2º Cadastro                  15\n",
       "Cargo 1º Cad                 15\n",
       "Cargo 2º Cad                 15\n",
       "dtype: int64"
      ]
     },
     "execution_count": 47,
     "metadata": {},
     "output_type": "execute_result"
    }
   ],
   "source": [
    "df_servidoresRepetidos_105_bruto.count()"
   ]
  },
  {
   "cell_type": "code",
   "execution_count": null,
   "metadata": {},
   "outputs": [],
   "source": []
  }
 ],
 "metadata": {
  "kernelspec": {
   "display_name": "sandbox",
   "language": "python",
   "name": "python3"
  },
  "language_info": {
   "codemirror_mode": {
    "name": "ipython",
    "version": 3
   },
   "file_extension": ".py",
   "mimetype": "text/x-python",
   "name": "python",
   "nbconvert_exporter": "python",
   "pygments_lexer": "ipython3",
   "version": "3.11.4"
  },
  "orig_nbformat": 4,
  "vscode": {
   "interpreter": {
    "hash": "b873e3c0fdb4ee2c4a38dd9914bcb4e3316f62b4a5bc3d639683ab05079b226f"
   }
  }
 },
 "nbformat": 4,
 "nbformat_minor": 2
}
